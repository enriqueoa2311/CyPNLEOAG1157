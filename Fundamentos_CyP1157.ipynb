{
  "nbformat": 4,
  "nbformat_minor": 0,
  "metadata": {
    "colab": {
      "name": "Fundamentos.CyP1157",
      "provenance": []
    },
    "kernelspec": {
      "name": "python3",
      "display_name": "Python 3"
    },
    "language_info": {
      "name": "python"
    }
  },
  "cells": [
    {
      "cell_type": "code",
      "metadata": {
        "id": "YmpehqlhVgyr"
      },
      "source": [
        "import sys\n",
        "edad = 21\n",
        "print(\"Tu edad es:\", edad)\n",
        "\n",
        "#Tipos de datos númericos: int y float\n",
        "sys.getsizeof(edad)\n",
        "edad = edad + 1 \n",
        "print(edad)\n",
        "\n",
        "estatura = 1.86\n",
        "print(estatura)\n",
        "print(sys.getsizeof(estatura))\n",
        "estatura = estatura + 0.1\n",
        "print(round(estatura,2))\n",
        "\n",
        "edad +=1\n",
        "print(\"Tu edad es:\",edad)\n",
        "\n",
        "edad -=1\n",
        "print(\"Tu edad es:\",edad)\n",
        "\n",
        "edad /=2\n",
        "print(\"La mitad de tu edad es:\",edad)\n",
        "\n",
        "edad = 21\n",
        "#Volver a calcular la mitad de la edad pero sólo dejar parte entera\n",
        "edad = edad // 2\n",
        "print(edad)\n",
        "\n",
        "número = edad / 2.0\n",
        "print (número)\n",
        "\n",
        "número *= 3\n",
        "print(número)\n",
        "\n",
        "número = 5.0\n",
        "número = número ** 3\n",
        "print(número)\n",
        "\n",
        "#Operador Módulo\n",
        "número = 21\n",
        "print(\"Residuo de 21/2: \", número % 2)\n",
        "\n",
        "print(\"21 es diferente de 24:\" , número != 24)\n",
        "print(\"21 es mayor que 21:\", número > 21)\n",
        "print(\"21 es mayor o igual que 23:\", número >= 23)\n",
        "print(\"21 es menor o igual que 19:\", número <=19)\n",
        "\n",
        "print(\"El tipo de dato de la variable número es:\", type(número))\n",
        "print(\"El tipo de dato de la variable número/2 es:\", type(número/2))\n"
      ],
      "execution_count": null,
      "outputs": []
    },
    {
      "cell_type": "markdown",
      "metadata": {
        "id": "Z1iSZQ-UXSNe"
      },
      "source": [
        "#Tipos de datos en Python\n",
        "\n",
        "-str --> String o cadena de caracteres\n",
        "-int --> Números enteros\n",
        "-float --> Números con notación de punto flotante\n",
        "-complex --> Números complejos\n",
        "-bool --> Booleano (True o False)\n",
        "-byte (8 bits)\n",
        "\n",
        "\n",
        "#Tipos de datos estructurados (Compuestos)\n",
        "\n",
        "\n",
        "-list --> Listas (Arreglos en otros lenguajes)\n",
        "-dict --> Diccionarios\n",
        "-set y frozenset --> Conjuntos\n",
        "-tuple --> Listas no mutables\n"
      ]
    },
    {
      "cell_type": "markdown",
      "metadata": {
        "id": "unirK_eUpw8_"
      },
      "source": [
        "#Tipo de dato String (str en Python)\n",
        "-Se maneja como un arreglo (tipo de dato compuesto)\n",
        "-Se puede acceder a los elementos del String por medio de índice del caracter.\n",
        "-Tiene métodos útiles (potentes)\n",
        "-Slicing"
      ]
    },
    {
      "cell_type": "code",
      "metadata": {
        "colab": {
          "base_uri": "https://localhost:8080/"
        },
        "id": "wbFXNLHFqOND",
        "outputId": "f782f0eb-a7f7-4a10-d43f-d0a5a2b504db"
      },
      "source": [
        "nombre = 'Enrique'\n",
        "carrera = \"Ingeniería en Computación\"\n",
        "frase = \"\"\"El conocimiento me persigue, pero yo soy más rápido\"\"\"\n",
        "print(nombre)\n",
        "print(carrera)\n",
        "print(frase)\n",
        "#La función type de Python te devuelve el tipo de dato de una variable (o expresión)\n",
        "print(type(nombre), nombre)\n",
        "\n",
        "paterno = str('Ortega')\n",
        "print(paterno)"
      ],
      "execution_count": null,
      "outputs": [
        {
          "output_type": "stream",
          "name": "stdout",
          "text": [
            "Enrique\n",
            "Ingeniería en Computación\n",
            "El conocimiento me persigue, pero yo soy más rápido\n",
            "<class 'str'> Enrique\n",
            "Ortega\n"
          ]
        }
      ]
    }
  ]
}