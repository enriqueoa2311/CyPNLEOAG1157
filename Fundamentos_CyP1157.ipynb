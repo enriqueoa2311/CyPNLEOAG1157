{
  "nbformat": 4,
  "nbformat_minor": 0,
  "metadata": {
    "colab": {
      "name": "Fundamentos.CyP1157",
      "provenance": []
    },
    "kernelspec": {
      "name": "python3",
      "display_name": "Python 3"
    },
    "language_info": {
      "name": "python"
    }
  },
  "cells": [
    {
      "cell_type": "markdown",
      "metadata": {
        "id": "Z1iSZQ-UXSNe"
      },
      "source": [
        "#Tipos de datos en Python.\n",
        "\n",
        "-str --> String o cadena de caracteres.\n",
        "\n",
        "-int --> Números enteros.\n",
        "\n",
        "-float --> Números con notación de punto flotante.\n",
        "\n",
        "-complex --> Números complejos.\n",
        "\n",
        "-bool --> Booleano (True o False).\n",
        "\n",
        "-byte (8 bits).\n",
        "\n",
        "\n",
        "#Tipos de datos estructurados (Compuestos).\n",
        "\n",
        "\n",
        "-list --> Listas (Arreglos en otros lenguajes).\n",
        "\n",
        "-dict --> Diccionarios.\n",
        "\n",
        "-set y frozenset --> Conjuntos.\n",
        "\n",
        "-tuple --> Listas no mutables.\n"
      ]
    },
    {
      "cell_type": "code",
      "metadata": {
        "id": "YmpehqlhVgyr"
      },
      "source": [
        "import sys\n",
        "edad = 21\n",
        "print(\"Tu edad es:\", edad)\n",
        "\n",
        "#Tipos de datos númericos: int y float\n",
        "sys.getsizeof(edad)\n",
        "edad = edad + 1 \n",
        "print(edad)\n",
        "\n",
        "estatura = 1.86\n",
        "print(estatura)\n",
        "print(sys.getsizeof(estatura))\n",
        "estatura = estatura + 0.1\n",
        "print(round(estatura,2))\n",
        "\n",
        "edad +=1\n",
        "print(\"Tu edad es:\",edad)\n",
        "\n",
        "edad -=1\n",
        "print(\"Tu edad es:\",edad)\n",
        "\n",
        "edad /=2\n",
        "print(\"La mitad de tu edad es:\",edad)\n",
        "\n",
        "edad = 21\n",
        "#Volver a calcular la mitad de la edad pero sólo dejar parte entera\n",
        "edad = edad // 2\n",
        "print(edad)\n",
        "\n",
        "número = edad / 2.0\n",
        "print (número)\n",
        "\n",
        "número *= 3\n",
        "print(número)\n",
        "\n",
        "número = 5.0\n",
        "número = número ** 3\n",
        "print(número)\n",
        "\n",
        "#Operador Módulo\n",
        "número = 21\n",
        "print(\"Residuo de 21/2: \", número % 2)\n",
        "\n",
        "print(\"21 es diferente de 24:\" , número != 24)\n",
        "print(\"21 es mayor que 21:\", número > 21)\n",
        "print(\"21 es mayor o igual que 23:\", número >= 23)\n",
        "print(\"21 es menor o igual que 19:\", número <=19)\n",
        "\n",
        "print(\"El tipo de dato de la variable número es:\", type(número))\n",
        "print(\"El tipo de dato de la variable número/2 es:\", type(número/2))\n"
      ],
      "execution_count": null,
      "outputs": []
    },
    {
      "cell_type": "markdown",
      "metadata": {
        "id": "unirK_eUpw8_"
      },
      "source": [
        "#Tipo de dato String (str en Python).\n",
        "-Se maneja como un arreglo (tipo de dato compuesto).\n",
        "\n",
        "-Se puede acceder a los elementos del String por medio de índice del caracter.\n",
        "\n",
        "-Tiene métodos útiles (potentes).\n",
        "\n",
        "-Slicing.\n"
      ]
    },
    {
      "cell_type": "code",
      "metadata": {
        "id": "wbFXNLHFqOND"
      },
      "source": [
        "nombre = 'Enrique'\n",
        "carrera = \"Ingeniería en Computación\"\n",
        "frase = \"\"\"El conocimiento me persigue, pero yo soy más rápido\"\"\"\n",
        "print(nombre)\n",
        "print(carrera)\n",
        "print(frase)\n",
        "#La función type de Python te devuelve el tipo de dato de una variable (o expresión)\n",
        "print(type(nombre), nombre)\n",
        "\n",
        "paterno = str('Ortega')\n",
        "print(paterno)"
      ],
      "execution_count": null,
      "outputs": []
    },
    {
      "cell_type": "markdown",
      "metadata": {
        "id": "1xFiHfiFpL6w"
      },
      "source": [
        "# Una clase (class) es un tipo de dato compuesto."
      ]
    },
    {
      "cell_type": "code",
      "metadata": {
        "id": "GLMCfwLapeBj"
      },
      "source": [
        "carrera = \"Ingeniería en Computación\"\n",
        "print(carrera)\n",
        "print(carrera [2])"
      ],
      "execution_count": null,
      "outputs": []
    },
    {
      "cell_type": "markdown",
      "metadata": {
        "id": "-SsJI7vnr-0Y"
      },
      "source": [
        "# A la sintaxis escrita para elegir un elemento de un grupo de datos se le llama selector.\n",
        "En el caso de Strings y listas (lst) se usan los caracteres '['y']'\n",
        "1. En todos los lenguajes los arreglos inician en 0.\n",
        "2. En Python no existe como tal el tipo de dato arreglo, el concepto es listas.\n",
        "3. Los Strings se comportan como un arreglo en la mayoría de los lenguajes de programación.\n",
        "4. En Python se acepta un indexado negativo, en otros lenguajes NO.\n",
        "\n",
        "\n",
        "\n"
      ]
    },
    {
      "cell_type": "code",
      "metadata": {
        "id": "nG1qSZbnt9ug"
      },
      "source": [
        "carrera = \"Ingeniería en Computación\"\n",
        "print(carrera [8])\n",
        "print(carrera [24])\n",
        "print(carrera [-1])\n",
        "print(carrera [-25])\n",
        "\n",
        "# Adelantando el tema: Ciclo FOR\n",
        "\n",
        "for letra in carrera:\n",
        "  print(\"-->\", letra, \"<--\")\n"
      ],
      "execution_count": null,
      "outputs": []
    },
    {
      "cell_type": "markdown",
      "metadata": {
        "id": "c6OW-zMzu84W"
      },
      "source": [
        "#Slicing (rebanado de cadenas)\n",
        "Permite seleccionar subcadenas con el operador:\n",
        "#### [inicio : stop : incremento]\n",
        "El inicio no se incluye, es por eso que debemos agregar una posición extra.\n",
        "\n",
        "#Slicing y valores por defecto\n",
        "Inicio por defecto siempre será 0 stop: tamaño del arreglo (indexado positivo e indexado negativo)\n",
        "Incremento: es 1 (indexado negativo)"
      ]
    },
    {
      "cell_type": "code",
      "metadata": {
        "id": "kKNfUmnZvyHc"
      },
      "source": [
        "carrera = \"Ingeniería en Computación\"\n",
        "print(carrera [0:10:1])\n",
        "print(carrera [14:25:1])\n",
        "# Indexado negativo\n",
        "print(carrera [-11: :1])\n",
        "# Un ejercicio más para ver incremento\n",
        "print(carrera[0:10:2])\n",
        "print(carrera[-1:-12:-1])\n"
      ],
      "execution_count": null,
      "outputs": []
    },
    {
      "cell_type": "markdown",
      "metadata": {
        "id": "zZ-lEdPO0lY4"
      },
      "source": [
        "#String y sus métodos\n",
        "#Todos los tipos de datos en Python son objetos.\n",
        "##dir() y help() funciones para obtener ayuda del lenguaje Python (Clases de la POO).\n",
        "#dir muestra las funciones de un tipo de dato como resumen.\n",
        "#help muestra la misma ayuda pero a detalle.\n",
        "\n",
        "Método que incian con doble guión son privados de uso interno que no deben ser usados.\n",
        "Todos los demás son para uso exterior (Usuario).\n"
      ]
    },
    {
      "cell_type": "code",
      "metadata": {
        "id": "lxq4R-_91Iky"
      },
      "source": [
        "frutas = \"limón, fresa, manzana, aguacate\"\n",
        "nombre = 'Enrique'\n",
        "print(frutas)\n",
        "dir(frutas)\n",
        "print(dir(frutas))\n",
        "print(nombre.capitalize())\n",
        "print(nombre.upper())\n",
        "print(frutas.replace('a', '4'))\n",
        "help(str)\n",
        "print(frutas)\n",
        "print(\".-.-.-.-.-.-.-.-.-.-.-.-.-.-.-.-.-.-\")\n",
        "print(frutas.strip())\n",
        "print(frutas.split(','))"
      ],
      "execution_count": null,
      "outputs": []
    },
    {
      "cell_type": "markdown",
      "metadata": {
        "id": "vedyzo4V8fGE"
      },
      "source": [
        "#String y caracteres de escape\n",
        "\"Enrique\"\n",
        "- \\\\\"  --> \"\n",
        "- \\\\'  --> '\n",
        "- \\n  --> Salto de línea (tecla Enter).\n",
        "- \\t  --> Tabulador espacios a la izq.\n",
        "- \\uxxxx  --> Caracteres Unicode. 16 bits o 2 bytes.\n",
        "- \\Uxxxxxxxxx  --> Unicode extendido\n",
        "- \\\\ --> \\\n",
        "https://unicode-table.com/es/blocks/\n",
        "\n"
      ]
    },
    {
      "cell_type": "code",
      "metadata": {
        "id": "HiLGaq1a88m2"
      },
      "source": [
        "print(\" \\\"Enrique\\\" \")\n",
        "nombre = \"\\\"Enrique\\\"\"\n",
        "print(nombre)\n",
        "carrera = \"Ingeniería \\n\\ten \\n\\t\\tComputación\"\n",
        "print(carrera)\n",
        "print(\"\\u0065\")\n",
        "print(\"\\u0444\")\n",
        "print(\"\\u0620\")\n",
        "\n",
        "print(\"\\U00010057\")\n",
        "print(\"\\U0001F60E\")\n",
        "print(\"\\U0001F9A0\")\n"
      ],
      "execution_count": null,
      "outputs": []
    },
    {
      "cell_type": "markdown",
      "metadata": {
        "id": "x7h--nxzyPKh"
      },
      "source": [
        "#Función Print\n",
        "### Se emplea para desplegar información en la salida estandar. Normalmente un monitor.\n",
        "- Formas de usar Print\n",
        "- El argumento por defecto de la función Print (end)\n",
        "- format()\n",
        "- operador f\" \""
      ]
    },
    {
      "cell_type": "code",
      "metadata": {
        "colab": {
          "base_uri": "https://localhost:8080/"
        },
        "id": "OthjC1H9y8Sj",
        "outputId": "db740963-4828-4239-df7e-10d8aa881675"
      },
      "source": [
        "nombre = \"Enrique\"\n",
        "edad = 21\n",
        "casado = False \n",
        "estatura = 1.67\n",
        "\"\"\"\n",
        "Nombre: Enrique\n",
        "Edad: 18\n",
        "Está casado: False\n",
        "Estatura en metros: 1.67 \n",
        "\"\"\"\n",
        "\n",
        "\n",
        "#1.- Con comas - Concatena haciendo un casting (conversión a String automáticamente)\n",
        "# Agrega un espacio\n",
        "print(nombre, edad, casado, estatura) \n",
        "print(\"Nombre: \"+ nombre +\"\\n\\tEdad: \"+str(edad) +\"\\n\\tEstá casado: \" +str(casado)+\"\\n\\tEstatura en metros: \" +str(edad))\n",
        "#2.- Con el símbolo de suma (+)\n",
        "# Concatenación en crudo\n",
        "print(nombre+\" \" +str(edad)+\" \"+str(casado)+\" \"+str(estatura))\n",
        "\n",
        "#3.- Dando formato a la salida con format  \n",
        "print(\"Nombre: {}\\n\\tEdad: {}\\n\\tEstá casado: {}\\n\\tEstatura en metros: {}\".format(nombre, edad, casado, estatura))\n",
        "\n",
        "#4.- Con el operador f\" \"\n",
        "print(\"Con el operador f\\\" \\\"\")\n",
        "print(f\"Nombre: {nombre}\\n\\tEdad: {edad}\\n\\tEstá casado: {casado}\\n\\tEstatura en metros: {estatura}\")\n",
        "\n",
        "#Cómo manejar el argumento end\n",
        "print(f\"Hola {nombre}\", end=\"\")\n",
        "print(\", ¿cómo estás?\", end=\"\\n\")\n",
        "\n"
      ],
      "execution_count": 27,
      "outputs": [
        {
          "output_type": "stream",
          "name": "stdout",
          "text": [
            "Enrique 21 False 1.67\n",
            "Nombre: Enrique\n",
            "\tEdad: 21\n",
            "\tEstá casado: False\n",
            "\tEstatura en metros: 21\n",
            "Enrique 21 False 1.67\n",
            "Nombre: Enrique\n",
            "\tEdad: 21\n",
            "\tEstá casado: False\n",
            "\tEstatura en metros: 1.67\n",
            "Con el operador f\" \"\n",
            "Nombre: Enrique\n",
            "\tEdad: 21\n",
            "\tEstá casado: False\n",
            "\tEstatura en metros: 1.67\n",
            "Hola Enrique, ¿cómo estás?\n"
          ]
        }
      ]
    },
    {
      "cell_type": "markdown",
      "metadata": {
        "id": "C2KBCK_G7H0n"
      },
      "source": [
        "# TAREA:\n",
        "# Con una sola función print por letra, escribir su primer nombre (nombre de pila) de la siguiente forma: \n",
        "E E E E\n",
        "E\n",
        "E E E\n",
        "E\n",
        "E E E E\n",
        "N     N\n",
        "N N   N\n",
        "N   N N\n",
        "N     N"
      ]
    },
    {
      "cell_type": "code",
      "metadata": {
        "id": "qg-0Qj8-7oXc"
      },
      "source": [
        ""
      ],
      "execution_count": null,
      "outputs": []
    }
  ]
}