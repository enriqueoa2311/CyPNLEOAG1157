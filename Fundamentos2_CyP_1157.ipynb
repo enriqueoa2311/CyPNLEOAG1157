{
  "nbformat": 4,
  "nbformat_minor": 0,
  "metadata": {
    "colab": {
      "name": "Fundamentos2_CyP_1157.ipynb",
      "provenance": []
    },
    "kernelspec": {
      "name": "python3",
      "display_name": "Python 3"
    },
    "language_info": {
      "name": "python"
    }
  },
  "cells": [
    {
      "cell_type": "markdown",
      "metadata": {
        "id": "pMiGPOYoFdsG"
      },
      "source": [
        "#Tipos de datos estructurados en Python\n",
        "1. Listas\n",
        "2. Tuplas\n",
        "3. Diccionarios\n",
        "4. Conjuntos (opcional)"
      ]
    },
    {
      "cell_type": "markdown",
      "metadata": {
        "id": "gPxtqBQkFtin"
      },
      "source": [
        "#Listas\n",
        "- Tipo de dato que agrupa variables o valores.\n",
        "- Estructura secuencial (indexados empezando por 0).\n",
        "- Se declara de dos formas: \n",
        "    - Usando [ ]\n",
        "    - Usando list()\n",
        "- Puede contener tipos de datos diversos (en otros lenguajes de programación eso no es posible de forma directa).\n",
        "- Los elementos internos se seleccionan con [ ].\n",
        "- Soporta Slicing.\n",
        "- Son MUTABLES.\n",
        "- Generadores \n",
        "- Al ser una clase contiene muchos métodos útiles."
      ]
    },
    {
      "cell_type": "code",
      "metadata": {
        "id": "007yF9D8FU8w"
      },
      "source": [
        "numeros = [10, 5, 2, 3, 1]\n",
        "print(numeros)\n",
        "\n",
        "numeros2 = list()\n",
        "numeros2.append(10)\n",
        "numeros2.append(5)\n",
        "numeros2.append(2)\n",
        "numeros2.append(3)\n",
        "numeros2.append(1)\n",
        "print(numeros2)\n",
        "numeros[2]= 20 \n",
        "numeros [-1] = 33\n",
        "numeros.append(88)\n",
        "print(numeros)"
      ],
      "execution_count": null,
      "outputs": []
    },
    {
      "cell_type": "code",
      "metadata": {
        "id": "nwfpUGWMIdz2"
      },
      "source": [
        "#Tipos diversos\n",
        "cosas = [12, 2, True, \"José\", 1.57, [\"pera\", \"kiwi\", \"uva\"]]\n",
        "print(cosas)\n",
        "print(cosas[1])\n",
        "print(cosas[4])\n",
        "print(cosas[5])\n",
        "print(cosas[5][1])\n",
        "print(cosas[3][1:3])\n",
        "cosas[3] = cosas[3].upper()\n",
        "print(cosas)"
      ],
      "execution_count": null,
      "outputs": []
    },
    {
      "cell_type": "code",
      "metadata": {
        "id": "0GRhVlQpL2To"
      },
      "source": [
        "numeros = [1, 2, 3, 4, 5, 6, 7, 8, 9, 10, 11]\n",
        "print(numeros)\n",
        "#Slicing\n",
        "#1.- Imprimir del 4 al 8\n",
        "print(numeros[3:8])\n",
        "#2.- Imprimir 9, 10\n",
        "print(numeros[8:10]) \n",
        "print(numeros[-3:-1])\n",
        "#3.- Imprimir la lista en orden inverso\n",
        "print(numeros[ : :-1])"
      ],
      "execution_count": null,
      "outputs": []
    },
    {
      "cell_type": "code",
      "metadata": {
        "id": "EN7kGbf_PsBl"
      },
      "source": [
        "#Crear una lista con generador\n",
        "numeros = [x*3 for x in range (1001)]\n",
        "print(numeros)"
      ],
      "execution_count": null,
      "outputs": []
    },
    {
      "cell_type": "markdown",
      "metadata": {
        "id": "fRt7jFHmQX-K"
      },
      "source": [
        "#Función range()\n",
        "Tiene los mismos componentes que el Slicing\n",
        "- inicio, stop, incremento\n",
        "- range(1,101,1)"
      ]
    },
    {
      "cell_type": "code",
      "metadata": {
        "id": "RIvE72fgQytK"
      },
      "source": [
        "numeros = [x for x in range (50, 101, 5)]\n",
        "print(numeros)"
      ],
      "execution_count": null,
      "outputs": []
    },
    {
      "cell_type": "markdown",
      "metadata": {
        "id": "3W6PANbrRI8i"
      },
      "source": [
        "#Métodos disponibles de las listas \n"
      ]
    },
    {
      "cell_type": "code",
      "metadata": {
        "id": "UqSIZwBXROrq"
      },
      "source": [
        "dir(list)"
      ],
      "execution_count": null,
      "outputs": []
    },
    {
      "cell_type": "code",
      "metadata": {
        "id": "_tYCGvEaSYl-"
      },
      "source": [
        "numeros = [4, 1, 15, 8, 22, 34, 50, 15]\n",
        "print(numeros)\n",
        "numeros.append(99)\n",
        "print(numeros)\n",
        "\n",
        "\n",
        "frutas = [\"uvas\", \"kiwi\", \"manzana\"]\n",
        "copia = frutas\n",
        "print(frutas)\n",
        "print(copia)\n",
        "frutas.append(\"naranja\")\n",
        "print(frutas)\n",
        "print(copia)\n",
        "\n",
        "colores = [\"rojo\", \"azul\", \"blanco\"]\n",
        "copia2 = colores.copy()\n",
        "print(colores)\n",
        "print(copia2)\n",
        "colores.append(\"verde\")\n",
        "print(colores)\n",
        "print(copia2)\n",
        "\n",
        "print(\"Números de veces que aparece el 15 = \", numeros.count(15))\n",
        "nombres = [\"José\", \"Pedro\", \"Karina\"]\n",
        "otrosnombres = [\"Josué\", \"Diana\", \"Dalia\"]\n",
        "print(nombres)\n",
        "print(otrosnombres)\n",
        "nombres = nombres + otrosnombres\n",
        "print(nombres)\n",
        "print(otrosnombres)\n",
        "\n",
        "#Lo mismo con el método extend\n",
        "otrosnombres.extend([\"Jesús\", \"María\", \"José\"])\n",
        "print(otrosnombres)\n",
        "print(\"jesús está en la posición: \", otrosnombres.index(\"Jesús\"))\n",
        "otrosnombres.insert(4, \"Espíritu Santo\")\n",
        "print(otrosnombres)\n",
        "#Pop\n",
        "resultado = otrosnombres.pop()\n",
        "print(otrosnombres)\n",
        "print(resultado)"
      ],
      "execution_count": null,
      "outputs": []
    },
    {
      "cell_type": "markdown",
      "metadata": {
        "id": "IhuNpwIAuNMi"
      },
      "source": [
        "#Tuplas \n",
        "### Características:\n",
        "\n",
        "- Datos agrupados. \n",
        "- Se declara usando:\n",
        "  - ()\n",
        "  - tuple()\n",
        "- Estructura secuencial, indexada a partir de 0.\n",
        "- Pueden tener de 0 a n elementos.\n",
        "- NO SON MUTABLES (no se puede eliminar y/o modificar).\n",
        "- Son buenas para almacenar información de consulta.\n",
        "- Pueden almacenar información de diferentes tipos de datos.\n",
        "- Pueden estar anidadas.\n",
        "- Tienen métodos útiles.\n",
        "\n"
      ]
    },
    {
      "cell_type": "code",
      "metadata": {
        "id": "WVwPT8Cxw1Yc"
      },
      "source": [
        "info = (\"juan23\", \"dios1234\", \"123.232.1.12\")\n",
        "print(info)\n",
        "print(info[1])\n",
        "#info[1] = \"patito23\"\n",
        "\n",
        "numeros = (0, 1, 2, 3, 4, 5, 6, 7, 8, 9, 10, 11, 12, 13, 14, 15)\n",
        "print(numeros)\n",
        "print(numeros [5:11])\n",
        "\n",
        "cosas = (info, numeros)\n",
        "print(cosas)\n",
        "print(cosas [1] [5:11:1])\n",
        "print(cosas [0] [2] [4:7])"
      ],
      "execution_count": null,
      "outputs": []
    },
    {
      "cell_type": "markdown",
      "metadata": {
        "id": "_PCQ8glA0nCU"
      },
      "source": [
        "# Métodos de las tuplas\n",
        "Son los mismos de las listas pero los que no involucren mutabilidad."
      ]
    },
    {
      "cell_type": "code",
      "metadata": {
        "id": "uh40emX80vzl"
      },
      "source": [
        "dir(tuple)"
      ],
      "execution_count": null,
      "outputs": []
    },
    {
      "cell_type": "markdown",
      "metadata": {
        "id": "rOiGikDx21TS"
      },
      "source": [
        "# Diccionarios\n",
        "### Características:\n",
        "\n",
        "- Agrupan datos de forma no lineal.\n",
        "- Se declaran con:\n",
        "    - { }\n",
        "    - dict()\n",
        "- Formado por pares del tipo llave:valor, donde: \n",
        "    - llave es de tipo String (siempre).\n",
        "    - valor puede ser de cualquier tipo de datos, incluyendo los diccionarios.\n",
        "- Se seleccionan con la llave de la forma: [\"id_llave\"].\n",
        "- Son mutables.\n",
        "- Son anidables.\n",
        "- Son equivalentes al tipo de dato JSON del lenguaje JavaScript (JS).\n",
        "\n",
        "\n",
        "\n"
      ]
    },
    {
      "cell_type": "code",
      "metadata": {
        "id": "sa18ONpW0zVI"
      },
      "source": [
        "alumno = {\"nombre\":\"José\"}\n",
        "print(alumno)\n",
        "print(alumno [\"nombre\"])\n",
        "alumno = {\"nombre\":\"José\", \"NC\":\"212129211\", \"edad\":18}\n",
        "print(\"Edad del alumno:\", alumno [\"edad\"])\n",
        "print(\"Nombre del alumno:\", alumno [\"nombre\"].upper())\n",
        "print(alumno)\n",
        "\n",
        "print(\"Alumno2:\")\n",
        "alumno2 = dict() #{}\n",
        "alumno2 [\"nombre\"] = \"josé\"\n",
        "print(alumno2)\n",
        "alumno2 [\"NC\"] = \"212129211\"\n",
        "alumno2 [\"edad\"] = 18\n",
        "print(alumno2)\n",
        "alumno2 [\"edad\"] = alumno [\"edad\"] + 1\n",
        "print(alumno2)"
      ],
      "execution_count": null,
      "outputs": []
    },
    {
      "cell_type": "code",
      "metadata": {
        "id": "6NVTgjPN8PWb"
      },
      "source": [
        "cliente = {\"id\":\"CT2122\", \"nombre\":\"José Pedroza Rosales\", \"teléfonos\":\"casa = 5521218972 cel = 044551218411\"  }\n",
        "print(cliente)\n",
        "cliente = {\"id\":\"CT2122\", \"nombre\":{\"nombres\":[\"José\", \"Eduardo\"], \"paterno\":\"Pedroza\", \"materno\":\"Rosales\"}, \"teléfonos\":{\"casa\":\"5521218972\", \n",
        "                          \"trabajo\":\"5578121942\", \"celular\":\"044551218411\"},\n",
        "           \"productos\":{\"ahorro\":{\"numero_cuenta\":\"7788\", \"ahorro\":2500.5},\n",
        "            \"tarjetas\":[{\"tipo\":\"débito\", \"saldo\" : 10000.5},{\"tipo\":\"crédito preferente\", \"límite\" : 250000.5},\n",
        "                        {\"tipo\":\"lite\", \"límite\" : 15000.5}\n",
        "                        ]},\n",
        "                        \"dirección\":{\n",
        "                            \"calle\":\"Av. central\",\n",
        "                            \"número\":1245,\n",
        "                            \"colonia\":\"Impulsora\",\n",
        "                            \"delegación\":\"Nezahualcóyotl\",\n",
        "                        \"estado\":{\n",
        "                            \"clave\":15,\n",
        "                            \"nombre_corto\":\"Edomex\",\n",
        "                            \"nombre\":\"Estado de México\"}\n",
        "                    }\n",
        "                  }\n",
        "                                                                       \n",
        "print(cliente [\"teléfonos\"][\"casa\"])\n",
        "print(cliente)\n",
        "print(cliente [\"ahorro\"][\"ahorro\"])"
      ],
      "execution_count": null,
      "outputs": []
    },
    {
      "cell_type": "markdown",
      "metadata": {
        "id": "mwUdarJyGUz3"
      },
      "source": [
        "# Estructura de selección con bifurcación (if-else)\n",
        "\n",
        "Esta estructura selecciona una de dos opciones de ejecución, se ejecuta un bloque si la condición (if) se cumple o se ejecuta otro bloque si la condición no se cumple (else).\n",
        "\n",
        "```\n",
        "if <condición> :\n",
        "   <bloque de ejecución>\n",
        "else:\n",
        "   <bloque de ejecución alterno>\n",
        "```\n",
        "\n"
      ]
    },
    {
      "cell_type": "code",
      "metadata": {
        "colab": {
          "base_uri": "https://localhost:8080/"
        },
        "id": "ww05GZrcHlIO",
        "outputId": "423949b6-5e0b-4ec1-844d-14de83141772"
      },
      "source": [
        "edad = int(input(\"Dame tu edad: \"))\n",
        "print(f\"Tecleaste {edad} años\")\n",
        "if edad >= 18:\n",
        "    print(\"Eres mayor de edad, ten tu cheve\")\n",
        "else:\n",
        "    print(\"Eres menor de edad, ten tu Boing\")\n",
        "print(\"Fin del programa\")"
      ],
      "execution_count": 6,
      "outputs": [
        {
          "output_type": "stream",
          "name": "stdout",
          "text": [
            "Dame tu edad: 15\n",
            "Tecleaste 15 años\n",
            "Eres menor de edad, ten tu Boing\n",
            "Fin del programa\n"
          ]
        }
      ]
    },
    {
      "cell_type": "code",
      "metadata": {
        "colab": {
          "base_uri": "https://localhost:8080/"
        },
        "id": "1lHy4IGBJKlw",
        "outputId": "4e4e49bf-09bd-450b-e5ae-e5293c7a4636"
      },
      "source": [
        "# 36\n",
        "edad = int(input(\"Dame tu edad: \"))\n",
        "dinero = int(input(\"Dime la cantidad de dinero que tienes: \"))\n",
        "print(f\"Tecleaste {edad} años\")\n",
        "print(f\"Tecleaste {dinero} pesos\")\n",
        "if edad >= 18:\n",
        "    if dinero >=36:\n",
        "        print(\"Eres mayor de edad, ten tu cheve\")\n",
        "    else:\n",
        "        print(\"No tienes suficiente dinero\")\n",
        "else:\n",
        "    print(\"Eres menor de edad, ten tu Boing\")\n",
        "print(\"Fin del programa\")"
      ],
      "execution_count": 18,
      "outputs": [
        {
          "output_type": "stream",
          "name": "stdout",
          "text": [
            "Dame tu edad: 18\n",
            "Dime la cantidad de dinero que tienes: 120\n",
            "Tecleaste 18 años\n",
            "Tecleaste 120 pesos\n",
            "Eres mayor de edad, ten tu cheve\n",
            "Fin del programa\n"
          ]
        }
      ]
    },
    {
      "cell_type": "markdown",
      "metadata": {
        "id": "FV7OuEYdMw18"
      },
      "source": [
        "El código anterior se puede simplificar usando una palabra reservada especial que existe en algunos lenguajes de programación:\n",
        "# elif"
      ]
    },
    {
      "cell_type": "code",
      "metadata": {
        "id": "AhwlR7wMNGS0"
      },
      "source": [
        ""
      ],
      "execution_count": null,
      "outputs": []
    },
    {
      "cell_type": "code",
      "metadata": {
        "colab": {
          "base_uri": "https://localhost:8080/"
        },
        "id": "8ag5CDh4NGo8",
        "outputId": "a53c789e-5d34-43cd-adf2-32970d3ac8fe"
      },
      "source": [
        "edad = int(input(\"Dame tu edad: \"))\n",
        "dinero = float(input(\"Cuanto dinero tienes: \"))\n",
        "print(f\"Tecleaste {edad} años\")\n",
        "print(f\"Tecleaste {dinero} pesos\")\n",
        "if edad >= 18 :\n",
        "    if dinero >=36 :\n",
        "        print(\"Ten tu cheve\")\n",
        "    else:\n",
        "        print(\"tienes la edad pero no tienes dinero suficiente\")\n",
        "elif dinero >= 36 :\n",
        "    print(\"Tienes dinero suficiente pero no tienes la edad\")\n",
        "else:\n",
        "    print(\"No tienes la edad ni el dinero, ve a jugar roblox a tu casa\")"
      ],
      "execution_count": 23,
      "outputs": [
        {
          "output_type": "stream",
          "name": "stdout",
          "text": [
            "Dame tu edad: 16\n",
            "Cuanto dinero tienes: 35\n",
            "Tecleaste 16 años\n",
            "Tecleaste 35.0 pesos\n",
            "No tienes la edad ni el dinero, ve a jugar roblox a tu casa\n"
          ]
        }
      ]
    },
    {
      "cell_type": "code",
      "metadata": {
        "colab": {
          "base_uri": "https://localhost:8080/"
        },
        "id": "iWFXZe_6Osl_",
        "outputId": "fe6bace3-3b98-484f-cb7c-344e946cbb08"
      },
      "source": [
        "cal= float(input(\"Escribe tu calificiación: \"))\n",
        "if cal >= 8 :\n",
        "    print(\"Aprobado\")\n",
        "else: \n",
        "    print(\"Reprobado\")"
      ],
      "execution_count": 25,
      "outputs": [
        {
          "output_type": "stream",
          "name": "stdout",
          "text": [
            "Escribe tu calificiación: 7.8\n",
            "Reprobado\n"
          ]
        }
      ]
    },
    {
      "cell_type": "code",
      "metadata": {
        "colab": {
          "base_uri": "https://localhost:8080/"
        },
        "id": "JyZp6kAHPQIm",
        "outputId": "a309f502-94a5-42b1-8061-bc32be221356"
      },
      "source": [
        "# Ejemplo 2.4\n",
        "SUE = float(input(\"Escribe el sueldo: \"))\n",
        "AUM = 0 \n",
        "NSUE = 0\n",
        "\n",
        "if SUE < 1000 :\n",
        "    AUM = SUE * 0.15\n",
        "    NSUE = SUE + AUM\n",
        "else:\n",
        "    AUM = SUE*0.12\n",
        "    NSUE = SUE + AUM\n",
        "print(NSUE)"
      ],
      "execution_count": 36,
      "outputs": [
        {
          "output_type": "stream",
          "name": "stdout",
          "text": [
            "Escribe el sueldo: 900\n",
            "1035.0\n"
          ]
        }
      ]
    },
    {
      "cell_type": "markdown",
      "metadata": {
        "id": "lTbhc8aJSKpm"
      },
      "source": [
        "# Ejercicio else-if\n",
        "### Hacer un programa que solicite el día de la semana en un valor numerico entero del 1 al 7 (Avisarle al usuario al proporcionar un valor fuera del rango).\n",
        "### Posteriormente, imprimirá el día de la semana correspondiente al número capturado \n",
        "1. Lunes\n",
        "2. Martes\n",
        "3. Miércoles\n",
        "...\n",
        "7. Domingo"
      ]
    },
    {
      "cell_type": "code",
      "metadata": {
        "id": "tj2S1rwBSsLR"
      },
      "source": [
        "dia  = int(input(\"Ingresa un número entre 1 y 7: \"))\n",
        "print(f\"Capturaste el número {dia}\")\n",
        "if dia >= 1 and dia <=7:\n",
        "    if dia == 1:\n",
        "        print(\"Seleccionaste el día Lunes\")\n",
        "    elif dia == 2:\n",
        "        print(\"Seleccionaste el día Martes\")\n",
        "    elif dia == 3:\n",
        "        print(\"Seleccionaste el día Miércoles\")\n",
        "    elif dia == 4:\n",
        "        print(\"Seleccionaste el día Jueves\")\n",
        "    elif dia == 5:\n",
        "        print(\"Seleccionaste el día Viernes\")\n",
        "    elif dia == 6:\n",
        "        print(\"Seleccionaste el día Sábado\")\n",
        "    elif dia == 7:\n",
        "        print(\"Seleccionaste el día Domingo\")\n",
        "else:\n",
        "    print(\"Número no permitido\")\n",
        "print(\"Fin del programa\")"
      ],
      "execution_count": null,
      "outputs": []
    },
    {
      "cell_type": "markdown",
      "metadata": {
        "id": "x7ohXd3RZ5i8"
      },
      "source": [
        "# Tarea:\n",
        "# Ejercicio 1\n",
        "### Hacer un programa que pida dos números enteros y que imprima en pantalla lo siguiente:\n",
        "1. ¿Cuál de ellos es el número mayor?\n",
        "2. ¿Cuál de ellos es el número menor? o en su defecto imprimir que los valores son iguales.\n",
        "\n",
        "# Ejercicio 2\n",
        "### Hacer un programa que solicite tres números enteros diferentes entre sí y que imprima cual es el mayor.\n",
        "### Hacer un programa que solicite tres números enteros diferentes entre sí y que imprima cual es el menor.\n",
        "\n",
        "# Ejercicio 3\n",
        "### Hacer un programa que solicite cuatro números enteros diferentes entre sí e imprima a la salida cual de ellos es el menor y cual de ellos es el mayor."
      ]
    },
    {
      "cell_type": "markdown",
      "metadata": {
        "id": "kUQ3M8ZDa8wW"
      },
      "source": [
        "# Selección múltiple (switch)\n",
        "En python no existe la estructura de selección switch, en su lugar se emplea la palabra reservada: \n",
        "### elif <condición>: \n",
        "Por ejemplo en el lenguaje C y JAVA sería de la forma:\n",
        "```\n",
        "\n",
        "```\n"
      ]
    },
    {
      "cell_type": "code",
      "metadata": {
        "colab": {
          "base_uri": "https://localhost:8080/"
        },
        "id": "9Stf6zOscuPs",
        "outputId": "6d0bc186-607e-4de6-bed0-409bedaccd26"
      },
      "source": [
        "# Ejemplo 2.7\n",
        "NUM = int(input(\"Dame un número entre 1 y 3: \"))\n",
        "V = float(input(\"Dame un valor float: \"))\n",
        "VAL = 0\n",
        "if NUM == 1:\n",
        "    VAL = 100 * V\n",
        "elif NUM == 2:\n",
        "    VAL = 100 ** Value\n",
        "elif NUM == 3:\n",
        "    VAL = 100 / V\n",
        "else: \n",
        "    VAL = 0\n",
        "print(VAL)"
      ],
      "execution_count": 60,
      "outputs": [
        {
          "output_type": "stream",
          "name": "stdout",
          "text": [
            "Dame un número entre 1 y 3: 1\n",
            "Dame un valor float: 5\n",
            "500.0\n"
          ]
        }
      ]
    }
  ]
}