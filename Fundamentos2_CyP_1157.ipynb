{
  "nbformat": 4,
  "nbformat_minor": 0,
  "metadata": {
    "colab": {
      "name": "Fundamentos2_CyP_1157.ipynb",
      "provenance": []
    },
    "kernelspec": {
      "name": "python3",
      "display_name": "Python 3"
    },
    "language_info": {
      "name": "python"
    }
  },
  "cells": [
    {
      "cell_type": "markdown",
      "metadata": {
        "id": "pMiGPOYoFdsG"
      },
      "source": [
        "#Tipos de datos estructurado en Python\n",
        "1. Listas\n",
        "2. Tuplas\n",
        "3. Diccionarios\n",
        "4. Conjuntos (opcional)"
      ]
    },
    {
      "cell_type": "markdown",
      "metadata": {
        "id": "gPxtqBQkFtin"
      },
      "source": [
        "#Listas\n",
        "- Tipo de dato que agrupa variables o valores.\n",
        "- Estructura secuencial (indexados empezando por 0).\n",
        "- Se declara de dos formas: \n",
        "    - Usando [ ]\n",
        "    - Usando list()\n",
        "- Puede contener tipos de datos diversos (en otros lenguajes de programación eso no es posible de forma directa).\n",
        "- Los elementos internos se seleccionan con [ ].\n",
        "- Soporta Slicing.\n",
        "- Son MUTABLES.\n",
        "- Generadores \n",
        "- Al ser una clase contiene muchos métodos útiles."
      ]
    },
    {
      "cell_type": "code",
      "metadata": {
        "id": "007yF9D8FU8w"
      },
      "source": [
        "numeros = [10, 5, 2, 3, 1]\n",
        "print(numeros)\n",
        "\n",
        "numeros2 = list()\n",
        "numeros2.append(10)\n",
        "numeros2.append(5)\n",
        "numeros2.append(2)\n",
        "numeros2.append(3)\n",
        "numeros2.append(1)\n",
        "print(numeros2)\n",
        "numeros[2]= 20 \n",
        "numeros [-1] = 33\n",
        "numeros.append(88)\n",
        "print(numeros)"
      ],
      "execution_count": null,
      "outputs": []
    },
    {
      "cell_type": "code",
      "metadata": {
        "id": "nwfpUGWMIdz2"
      },
      "source": [
        "#Tipos diversos\n",
        "cosas = [12, 2, True, \"José\", 1.57, [\"pera\", \"kiwi\", \"uva\"]]\n",
        "print(cosas)\n",
        "print(cosas[1])\n",
        "print(cosas[4])\n",
        "print(cosas[5])\n",
        "print(cosas[5][1])\n",
        "print(cosas[3][1:3])\n",
        "cosas[3] = cosas[3].upper()\n",
        "print(cosas)"
      ],
      "execution_count": null,
      "outputs": []
    },
    {
      "cell_type": "code",
      "metadata": {
        "id": "0GRhVlQpL2To"
      },
      "source": [
        "numeros = [1, 2, 3, 4, 5, 6, 7, 8, 9, 10, 11]\n",
        "print(numeros)\n",
        "#Slicing\n",
        "#1.- Imprimir del 4 al 8\n",
        "print(numeros[3:8])\n",
        "#2.- Imprimir 9, 10\n",
        "print(numeros[8:10]) \n",
        "print(numeros[-3:-1])\n",
        "#3.- Imprimir la lista en orden inverso\n",
        "print(numeros[ : :-1])"
      ],
      "execution_count": null,
      "outputs": []
    },
    {
      "cell_type": "code",
      "metadata": {
        "id": "EN7kGbf_PsBl"
      },
      "source": [
        "#Crear una lista con generador\n",
        "numeros = [x*3 for x in range (1001)]\n",
        "print(numeros)"
      ],
      "execution_count": null,
      "outputs": []
    },
    {
      "cell_type": "markdown",
      "metadata": {
        "id": "fRt7jFHmQX-K"
      },
      "source": [
        "#Función range()\n",
        "Tiene los mismos componentes que el Slicing\n",
        "- inicio, stop, incremento\n",
        "- range(1,101,1)"
      ]
    },
    {
      "cell_type": "code",
      "metadata": {
        "id": "RIvE72fgQytK"
      },
      "source": [
        "numeros = [x for x in range (50, 101, 5)]\n",
        "print(numeros)"
      ],
      "execution_count": null,
      "outputs": []
    },
    {
      "cell_type": "markdown",
      "metadata": {
        "id": "3W6PANbrRI8i"
      },
      "source": [
        "#Métodos disponibles de las listas \n"
      ]
    },
    {
      "cell_type": "code",
      "metadata": {
        "id": "UqSIZwBXROrq"
      },
      "source": [
        "dir(list)"
      ],
      "execution_count": null,
      "outputs": []
    },
    {
      "cell_type": "code",
      "metadata": {
        "id": "_tYCGvEaSYl-"
      },
      "source": [
        "numeros = [4, 1, 15, 8, 22, 34, 50, 15]\n",
        "print(numeros)\n",
        "numeros.append(99)\n",
        "print(numeros)\n",
        "\n",
        "\n",
        "frutas = [\"uvas\", \"kiwi\", \"manzana\"]\n",
        "copia = frutas\n",
        "print(frutas)\n",
        "print(copia)\n",
        "frutas.append(\"naranja\")\n",
        "print(frutas)\n",
        "print(copia)\n",
        "\n",
        "colores = [\"rojo\", \"azul\", \"blanco\"]\n",
        "copia2 = colores.copy()\n",
        "print(colores)\n",
        "print(copia2)\n",
        "colores.append(\"verde\")\n",
        "print(colores)\n",
        "print(copia2)\n",
        "\n",
        "print(\"Números de veces que aparece el 15 = \", numeros.count(15))\n",
        "nombres = [\"José\", \"Pedro\", \"Karina\"]\n",
        "otrosnombres = [\"Josué\", \"Diana\", \"Dalia\"]\n",
        "print(nombres)\n",
        "print(otrosnombres)\n",
        "nombres = nombres + otrosnombres\n",
        "print(nombres)\n",
        "print(otrosnombres)\n",
        "\n",
        "#Lo mismo con el método extend\n",
        "otrosnombres.extend([\"Jesús\", \"María\", \"José\"])\n",
        "print(otrosnombres)\n",
        "print(\"jesús está en la posición: \", otrosnombres.index(\"Jesús\"))\n",
        "otrosnombres.insert(4, \"Espíritu Santo\")\n",
        "print(otrosnombres)\n",
        "#Pop\n",
        "resultado = otrosnombres.pop()\n",
        "print(otrosnombres)\n",
        "print(resultado)"
      ],
      "execution_count": null,
      "outputs": []
    },
    {
      "cell_type": "markdown",
      "metadata": {
        "id": "IhuNpwIAuNMi"
      },
      "source": [
        "#Tuplas \n",
        "### Características:\n",
        "\n",
        "- Datos agrupados. \n",
        "- Se declara usando:\n",
        "  - ()\n",
        "  - tuple()\n",
        "- Estructura secuencial, indexada a partir de 0.\n",
        "- Pueden tener de 0 a n elementos.\n",
        "- NO SON MUTABLES (no se puede eliminar y/o modificar).\n",
        "- Son buenas para almacenar información de consulta.\n",
        "- Pueden almacenar información de diferentes tipos de datos.\n",
        "- Pueden estar anidadas.\n",
        "- Tienen métodos útiles.\n",
        "\n"
      ]
    },
    {
      "cell_type": "code",
      "metadata": {
        "colab": {
          "base_uri": "https://localhost:8080/"
        },
        "id": "WVwPT8Cxw1Yc",
        "outputId": "d62e888a-1266-41a6-9003-679f385047ee"
      },
      "source": [
        "info = (\"juan23\", \"dios1234\", \"123.232.1.12\")\n",
        "print(info)\n",
        "print(info[1])\n",
        "#info[1] = \"patito23\"\n",
        "\n",
        "numeros = (0, 1, 2, 3, 4, 5, 6, 7, 8, 9, 10, 11, 12, 13, 14, 15)\n",
        "print(numeros)\n",
        "print(numeros [5:11])\n",
        "\n",
        "cosas = (info, numeros)\n",
        "print(cosas)\n",
        "print(cosas [1] [5:11:1])\n",
        "print(cosas [0] [2] [4:7])"
      ],
      "execution_count": 12,
      "outputs": [
        {
          "output_type": "stream",
          "name": "stdout",
          "text": [
            "('juan23', 'dios1234', '123.232.1.12')\n",
            "dios1234\n",
            "(0, 1, 2, 3, 4, 5, 6, 7, 8, 9, 10, 11, 12, 13, 14, 15)\n",
            "(5, 6, 7, 8, 9, 10)\n",
            "(('juan23', 'dios1234', '123.232.1.12'), (0, 1, 2, 3, 4, 5, 6, 7, 8, 9, 10, 11, 12, 13, 14, 15))\n",
            "(5, 6, 7, 8, 9, 10)\n",
            "232\n"
          ]
        }
      ]
    },
    {
      "cell_type": "markdown",
      "metadata": {
        "id": "_PCQ8glA0nCU"
      },
      "source": [
        "# Métodos de las tuplas\n",
        "Son los mismos de las listas pero los que no involucren mutabilidad."
      ]
    },
    {
      "cell_type": "code",
      "metadata": {
        "colab": {
          "base_uri": "https://localhost:8080/"
        },
        "id": "uh40emX80vzl",
        "outputId": "ccf8ff9c-cd8f-4d61-a039-d00793c0634a"
      },
      "source": [
        "dir(tuple)"
      ],
      "execution_count": 13,
      "outputs": [
        {
          "output_type": "execute_result",
          "data": {
            "text/plain": [
              "['__add__',\n",
              " '__class__',\n",
              " '__contains__',\n",
              " '__delattr__',\n",
              " '__dir__',\n",
              " '__doc__',\n",
              " '__eq__',\n",
              " '__format__',\n",
              " '__ge__',\n",
              " '__getattribute__',\n",
              " '__getitem__',\n",
              " '__getnewargs__',\n",
              " '__gt__',\n",
              " '__hash__',\n",
              " '__init__',\n",
              " '__init_subclass__',\n",
              " '__iter__',\n",
              " '__le__',\n",
              " '__len__',\n",
              " '__lt__',\n",
              " '__mul__',\n",
              " '__ne__',\n",
              " '__new__',\n",
              " '__reduce__',\n",
              " '__reduce_ex__',\n",
              " '__repr__',\n",
              " '__rmul__',\n",
              " '__setattr__',\n",
              " '__sizeof__',\n",
              " '__str__',\n",
              " '__subclasshook__',\n",
              " 'count',\n",
              " 'index']"
            ]
          },
          "metadata": {},
          "execution_count": 13
        }
      ]
    },
    {
      "cell_type": "markdown",
      "metadata": {
        "id": "rOiGikDx21TS"
      },
      "source": [
        "# Diccionarios\n",
        "### Características:\n",
        "\n",
        "- Agrupan datos de forma no lineal.\n",
        "- Se declaran con:\n",
        "    - { }\n",
        "    - dict()\n",
        "- Formado por pares del tipo llave:valor, donde: \n",
        "    - llave es de tipo String (siempre).\n",
        "    - valor puede ser de cualquier tipo de datos, incluyendo los diccionarios.\n",
        "- Se seleccionan con la llave de la forma: [\"id_llave\"].\n",
        "- Son mutables.\n",
        "- Son anidables.\n",
        "- Son equivalentes al tipo de dato JSON del lenguaje JavaScript (JS).\n",
        "\n",
        "\n",
        "\n"
      ]
    },
    {
      "cell_type": "code",
      "metadata": {
        "colab": {
          "base_uri": "https://localhost:8080/"
        },
        "id": "sa18ONpW0zVI",
        "outputId": "329dd04f-2e3c-4979-d225-96c71ef5117f"
      },
      "source": [
        "alumno = {\"nombre\":\"José\"}\n",
        "print(alumno)\n",
        "print(alumno [\"nombre\"])\n",
        "alumno = {\"nombre\":\"José\", \"NC\":\"212129211\", \"edad\":18}\n",
        "print(\"Edad del alumno:\", alumno [\"edad\"])\n",
        "print(\"Nombre del alumno:\", alumno [\"nombre\"].upper())\n",
        "print(alumno)\n",
        "\n",
        "print(\"Alumno2:\")\n",
        "alumno2 = dict() #{}\n",
        "alumno2 [\"nombre\"] = \"josé\"\n",
        "print(alumno2)\n",
        "alumno2 [\"NC\"] = \"212129211\"\n",
        "alumno2 [\"edad\"] = 18\n",
        "print(alumno2)\n",
        "alumno2 [\"edad\"] = alumno [\"edad\"] + 1\n",
        "print(alumno2)"
      ],
      "execution_count": 36,
      "outputs": [
        {
          "output_type": "stream",
          "name": "stdout",
          "text": [
            "{'nombre': 'José'}\n",
            "José\n",
            "Edad del alumno: 18\n",
            "Nombre del alumno: JOSÉ\n",
            "{'nombre': 'José', 'NC': '212129211', 'edad': 18}\n",
            "Alumno2:\n",
            "{'nombre': 'josé'}\n",
            "{'nombre': 'josé', 'NC': '212129211', 'edad': 18}\n",
            "{'nombre': 'josé', 'NC': '212129211', 'edad': 19}\n"
          ]
        }
      ]
    },
    {
      "cell_type": "code",
      "metadata": {
        "colab": {
          "base_uri": "https://localhost:8080/"
        },
        "id": "6NVTgjPN8PWb",
        "outputId": "dfe5a1e7-0760-4a30-e385-36372f107d4a"
      },
      "source": [
        "cliente = {\"id\":\"CT2122\", \"nombre\":\"José Pedroza Rosales\", \"teléfonos\":\"casa = 5521218972 cel = 044551218411\"  }\n",
        "print(cliente)\n",
        "cliente = {\"id\":\"CT2122\", \"nombre\":{\"nombres\":[\"José\", \"Eduardo\"], \"paterno\":\"Pedroza\", \"materno\":\"Rosales\"}, \"teléfonos\":{\"casa\":\"5521218972\", \n",
        "                          \"trabajo\":\"5578121942\", \"celular\":\"044551218411\"},\n",
        "           \"productos\":{\"ahorro\":{\"numero_cuenta\":\"7788\", \"ahorro\":2500.5},\n",
        "            \"tarjetas\":[{\"tipo\":\"débito\", \"saldo\" : 10000.5},{\"tipo\":\"crédito preferente\", \"límite\" : 250000.5},\n",
        "                        {\"tipo\":\"lite\", \"límite\" : 15000.5}\n",
        "                        ]},\n",
        "                        \"dirección\":{\n",
        "                            \"calle\":\"Av. central\",\n",
        "                            \"número\":1245,\n",
        "                            \"colonia\":\"Impulsora\",\n",
        "                            \"delegación\":\"Nezahualcóyotl\",\n",
        "                        \"estado\":{\n",
        "                            \"clave\":15,\n",
        "                            \"nombre_corto\":\"Edomex\",\n",
        "                            \"nombre\":\"Estado de México\"}\n",
        "                    }\n",
        "                  }\n",
        "                                                                       \n",
        "print(cliente[\"teléfonos\"][\"casa\"])\n",
        "print(cliente)"
      ],
      "execution_count": 59,
      "outputs": [
        {
          "output_type": "stream",
          "name": "stdout",
          "text": [
            "{'id': 'CT2122', 'nombre': 'José Pedroza Rosales', 'teléfonos': 'casa = 5521218972 cel = 044551218411'}\n",
            "5521218972\n",
            "{'id': 'CT2122', 'nombre': {'nombres': ['José', 'Eduardo'], 'paterno': 'Pedroza', 'materno': 'Rosales'}, 'teléfonos': {'casa': '5521218972', 'trabajo': '5578121942', 'celular': '044551218411'}, 'productos': {'ahorro': {'numero_cuenta': '7788', 'ahorro': 2500.5}, 'tarjetas': [{'tipo': 'débito', 'saldo': 10000.5}, {'tipo': 'crédito preferente', 'límite': 250000.5}, {'tipo': 'lite', 'límite': 15000.5}]}, 'dirección': {'calle': 'Av. central', 'número': 1245, 'colonia': 'Impulsora', 'delegación': 'Nezahualcóyotl', 'estado': {'clave': 15, 'nombre_corto': 'Edomex', 'nombre': 'Estado de México'}}}\n"
          ]
        }
      ]
    }
  ]
}