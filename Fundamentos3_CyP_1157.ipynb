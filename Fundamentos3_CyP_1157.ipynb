{
  "nbformat": 4,
  "nbformat_minor": 0,
  "metadata": {
    "colab": {
      "name": "Fundamentos3_CyP_1157.ipynb",
      "provenance": []
    },
    "kernelspec": {
      "name": "python3",
      "display_name": "Python 3"
    },
    "language_info": {
      "name": "python"
    }
  },
  "cells": [
    {
      "cell_type": "markdown",
      "metadata": {
        "id": "wBTCGr8fFkQb"
      },
      "source": [
        "Repetición:\n",
        "\n",
        "Este tipo de estructura nos permite automatizar la ejecución repetitiva de código mientas ciertas condiciones s cumplan, tenemos 3 variantes de esta estructura en todos los lenguajes de programación:\n",
        "\n",
        "Desde...hasta (estructura for)\n",
        "haz mientras (structura While)\n",
        "haz y luego validaz mientras( estructura Do-While)\n",
        "\n",
        "# FOR (Python)\n",
        "\n",
        "```\n",
        "for j in range (10):\n",
        "    print(f\"Hola {j}\")\n",
        "\n",
        "```\n",
        "# FOR (C o Java)\n",
        "\n",
        "```\n",
        "for (int j = 0; j < 10; j = j +1{\n",
        "    printf(\"Hola %i \\n\", j);\n",
        "\n",
        "}\n",
        "```\n",
        "En todos los lenguajes de programamción existe un tipo especial de for, conocido como **for-each**.\n",
        "\n",
        "# For-each en Python\n",
        "```\n",
        "for color in colores:\n",
        "    print(f\"Este es el color {color}\")\n",
        "```\n"
      ]
    },
    {
      "cell_type": "code",
      "metadata": {
        "colab": {
          "base_uri": "https://localhost:8080/"
        },
        "id": "IrJIq4OLFbrZ",
        "outputId": "b6d8c03c-005d-48b0-c74b-c35509070df4"
      },
      "source": [
        "# Función range()\n",
        "# range(<INICIO>,<STOP>,<INCREMENTO>) \n",
        "x = range(0, 10, 2)\n",
        "print(x)\n",
        "\n",
        "for j in range(10):\n",
        "    print(f\"Hola {j}\")\n",
        "\n",
        "print(\"-.-.-.\")\n",
        "for j in range(0, 10, 2):\n",
        "    print(f\"Hola {j}\")\n",
        "\n",
        "frutas = [\"uva\", \"aguacate\", \"pera\", \"manzana\", \"sandía\"]\n",
        "print(frutas[0])\n",
        "print(frutas[1])\n",
        "print(frutas[2])\n",
        "print(frutas[3])\n",
        "print(frutas[4])\n",
        "\n",
        "print(\"--Frutas--\")\n",
        "for index in range(5):\n",
        "    print(frutas[index])\n",
        "\n",
        "for i in range(5):\n",
        "    print(\"+++++\")"
      ],
      "execution_count": 12,
      "outputs": [
        {
          "output_type": "stream",
          "name": "stdout",
          "text": [
            "range(0, 10, 2)\n",
            "Hola 0\n",
            "Hola 1\n",
            "Hola 2\n",
            "Hola 3\n",
            "Hola 4\n",
            "Hola 5\n",
            "Hola 6\n",
            "Hola 7\n",
            "Hola 8\n",
            "Hola 9\n",
            "-.-.-.\n",
            "Hola 0\n",
            "Hola 2\n",
            "Hola 4\n",
            "Hola 6\n",
            "Hola 8\n",
            "uva\n",
            "aguacate\n",
            "pera\n",
            "manzana\n",
            "sandía\n",
            "--Frutas--\n",
            "uva\n",
            "aguacate\n",
            "pera\n",
            "manzana\n",
            "sandía\n",
            "+++++\n",
            "+++++\n",
            "+++++\n",
            "+++++\n",
            "+++++\n"
          ]
        }
      ]
    }
  ]
}