{
  "nbformat": 4,
  "nbformat_minor": 0,
  "metadata": {
    "colab": {
      "name": "Fundamentos3_CyP_1157.ipynb",
      "provenance": []
    },
    "kernelspec": {
      "name": "python3",
      "display_name": "Python 3"
    },
    "language_info": {
      "name": "python"
    }
  },
  "cells": [
    {
      "cell_type": "markdown",
      "metadata": {
        "id": "wBTCGr8fFkQb"
      },
      "source": [
        "Repetición:\n",
        "\n",
        "Este tipo de estructura nos permite automatizar la ejecución repetitiva de código mientas ciertas condiciones s cumplan, tenemos 3 variantes de esta estructura en todos los lenguajes de programación:\n",
        "\n",
        "Desde...hasta (estructura for)\n",
        "haz mientras (structura While)\n",
        "haz y luego validaz mientras( estructura Do-While)\n",
        "\n",
        "# FOR (Python)\n",
        "\n",
        "```\n",
        "for j in range (10):\n",
        "    print(f\"Hola {j}\")\n",
        "\n",
        "```\n",
        "# FOR (C o Java)\n",
        "\n",
        "```\n",
        "for (int j = 0; j < 10; j = j +1{\n",
        "    printf(\"Hola %i \\n\", j);\n",
        "\n",
        "}\n",
        "```\n",
        "En todos los lenguajes de programamción existe un tipo especial de for, conocido como **for-each**.\n",
        "\n",
        "# For-each en Python\n",
        "```\n",
        "for color in colores:\n",
        "    print(f\"Este es el color {color}\")\n",
        "```\n"
      ]
    },
    {
      "cell_type": "code",
      "metadata": {
        "id": "IrJIq4OLFbrZ"
      },
      "source": [
        "# Función range()\n",
        "# range(<INICIO>,<STOP>,<INCREMENTO>) \n",
        "x = range(0, 10, 2)\n",
        "print(x)\n",
        "\n",
        "for j in range(10):\n",
        "    print(f\"Hola {j}\")\n",
        "\n",
        "print(\"-.-.-.\")\n",
        "for j in range(0, 10, 2):\n",
        "    print(f\"Hola {j}\")\n",
        "\n",
        "frutas = [\"uva\", \"aguacate\", \"pera\", \"manzana\", \"sandía\"]\n",
        "print(frutas[0])\n",
        "print(frutas[1])\n",
        "print(frutas[2])\n",
        "print(frutas[3])\n",
        "print(frutas[4])\n",
        "\n",
        "print(\"--Frutas--\")\n",
        "for index in range(5):\n",
        "    print(frutas[index])\n",
        "\n",
        "for i in range(5):\n",
        "    print(\"+++++\")"
      ],
      "execution_count": null,
      "outputs": []
    },
    {
      "cell_type": "markdown",
      "metadata": {
        "id": "tCebuvd95-fj"
      },
      "source": [
        "# Estructura de control de repetición Haz - mientras.\n",
        "### Una estructura de control haz - mientras nos permite ejecutar repetidamente bloques de programación mientras una condición se siga cumpliendo.\n",
        "\n",
        "# Sintaxis\n",
        "```\n",
        "while <condición>:\n",
        "    <Bloque de sentencias a ejecutar repetidamente>\n",
        "<Siguiente sentencia posterior a while>\n",
        "```\n",
        "### La diferencia principal en comparación con la estructura for es que con while no conoces el número de ciclos a ejecutar, en for sí se conoce.\n",
        "### Como ejemplo iniciemos con el siguiente enunciado:\n",
        "#### Hacer un programa que solicite un valor entero positivo y calcule repetidamente la mitad y se reasigne a la misma variable. El ciclo se debe detener cuando el resultado sea menor que 1.\n",
        "Mostrar en pantalla el resultado de cada cálculo y al final el número de iteraciones que realizó.\n",
        "```\n",
        "Introduce un número entero positivo:\n",
        "8.5\n",
        "4.25\n",
        "2.12\n",
        "1.06\n",
        "0.53\n",
        "Total de iteraciones=5\n",
        "```"
      ]
    },
    {
      "cell_type": "code",
      "metadata": {
        "colab": {
          "base_uri": "https://localhost:8080/"
        },
        "id": "OPe9ULF_6sc1",
        "outputId": "643f7ae8-9498-4478-feed-936f8d14f987"
      },
      "source": [
        "valor = int(input(\"Introduce un número entero positivo:\"))\n",
        "contador = 0\n",
        "if valor > 0:\n",
        "    while valor > 1.0:\n",
        "        valor = valor / 2\n",
        "        print(round(valor, 2))\n",
        "        contador += 1\n",
        "else:\n",
        "    print(\"El número es negativo, intenta de nuevo\")\n",
        "print(\"Total de operaciones=\", contador)"
      ],
      "execution_count": 9,
      "outputs": [
        {
          "output_type": "stream",
          "name": "stdout",
          "text": [
            "Introduce un número entero positivo:201290131\n",
            "100645065.5\n",
            "50322532.75\n",
            "25161266.38\n",
            "12580633.19\n",
            "6290316.59\n",
            "3145158.3\n",
            "1572579.15\n",
            "786289.57\n",
            "393144.79\n",
            "196572.39\n",
            "98286.2\n",
            "49143.1\n",
            "24571.55\n",
            "12285.77\n",
            "6142.89\n",
            "3071.44\n",
            "1535.72\n",
            "767.86\n",
            "383.93\n",
            "191.97\n",
            "95.98\n",
            "47.99\n",
            "24.0\n",
            "12.0\n",
            "6.0\n",
            "3.0\n",
            "1.5\n",
            "0.75\n",
            "Total de operaciones= 28\n"
          ]
        }
      ]
    },
    {
      "cell_type": "code",
      "metadata": {
        "colab": {
          "base_uri": "https://localhost:8080/"
        },
        "id": "ZlNNKB3p8nIZ",
        "outputId": "177a64a2-2a87-4ff4-82ea-6ba241ffbb69"
      },
      "source": [
        "valor = int(input(\"Dame un valor entero:\"))\n",
        "\n",
        "while valor != 0:\n",
        "    print(valor)\n",
        "    valor = int(input(\"Dame un valor entero:\"))\n",
        "print(\"Fin del programa\")"
      ],
      "execution_count": 6,
      "outputs": [
        {
          "output_type": "stream",
          "name": "stdout",
          "text": [
            "Dame un valor entero:2\n",
            "2\n",
            "Dame un valor entero:0\n",
            "Fin del programa\n"
          ]
        }
      ]
    },
    {
      "cell_type": "code",
      "metadata": {
        "colab": {
          "base_uri": "https://localhost:8080/"
        },
        "id": "VzboQO3d9K9e",
        "outputId": "ca8df2a4-3260-468f-f799-ba34e475d3cc"
      },
      "source": [
        "valor = int(input(\"Dame un valor entero:\"))\n",
        "while valor != 0:\n",
        "    print(valor)\n",
        "    print(\"Otras cosas\")\n",
        "print(\"Fin del programa\")"
      ],
      "execution_count": 8,
      "outputs": [
        {
          "output_type": "stream",
          "name": "stdout",
          "text": [
            "Dame un valor entero:0\n",
            "Fin del programa\n"
          ]
        }
      ]
    },
    {
      "cell_type": "markdown",
      "metadata": {
        "id": "345PfFts_nP2"
      },
      "source": [
        "#### Escribe un programa que permita generar la tabla de multiplicar de un número entero positivo n, comenzando desde 1.\n",
        "#### Si el usuario escribe un número incorrecto, el programa no se ejecuta. En cambio, se pregunta de nuevo por la info hasta que el dato ingresado sea el correcto."
      ]
    },
    {
      "cell_type": "code",
      "metadata": {
        "colab": {
          "base_uri": "https://localhost:8080/"
        },
        "id": "_mUqPnQFACu3",
        "outputId": "f4b0681a-3903-4e1d-d19f-8aa14a5ccd0c"
      },
      "source": [
        "n = int(input(\"Ingrese un número entero positivo:\"))\n",
        "if n > 0:\n",
        "    print(\"Es correcto\")\n",
        "\n",
        "    for i in range(1,11):\n",
        "        print(n, \"por\", i, \"es igual a:\", n*i)\n",
        "\n",
        "else:\n",
        "    print(\"El número ingresado no es correcto\")"
      ],
      "execution_count": 18,
      "outputs": [
        {
          "output_type": "stream",
          "name": "stdout",
          "text": [
            "Ingrese un número entero positivo:3\n",
            "Es correcto\n",
            "3 por 1 es igual a: 3\n",
            "3 por 2 es igual a: 6\n",
            "3 por 3 es igual a: 9\n",
            "3 por 4 es igual a: 12\n",
            "3 por 5 es igual a: 15\n",
            "3 por 6 es igual a: 18\n",
            "3 por 7 es igual a: 21\n",
            "3 por 8 es igual a: 24\n",
            "3 por 9 es igual a: 27\n",
            "3 por 10 es igual a: 30\n"
          ]
        }
      ]
    },
    {
      "cell_type": "code",
      "metadata": {
        "colab": {
          "base_uri": "https://localhost:8080/"
        },
        "id": "Dkh9D0fMCEn-",
        "outputId": "919eda96-aed9-4327-f17e-f265eb7cd027"
      },
      "source": [
        "comprobar = True\n",
        "while comprobar == True:\n",
        "    n = int(input(\"Ingrese un número entero positivo:\"))\n",
        "    \n",
        "    if n > 0:\n",
        "        i = 1 # Se inicializa el valor en 1\n",
        "        while i < 11:\n",
        "            print(n, \"por\", i, \"es igual a:\", n*i)\n",
        "            i += 1\n",
        "            comprobar == False\n",
        "    else:\n",
        "        print(\"El número ingresado no es correcto. Intente de nuevo.\")"
      ],
      "execution_count": null,
      "outputs": [
        {
          "output_type": "stream",
          "name": "stdout",
          "text": [
            "Ingrese un número entero positivo:12\n",
            "12 por 1 es igual a: 12\n",
            "12 por 2 es igual a: 24\n",
            "12 por 3 es igual a: 36\n",
            "12 por 4 es igual a: 48\n",
            "12 por 5 es igual a: 60\n",
            "12 por 6 es igual a: 72\n",
            "12 por 7 es igual a: 84\n",
            "12 por 8 es igual a: 96\n",
            "12 por 9 es igual a: 108\n",
            "12 por 10 es igual a: 120\n",
            "Ingrese un número entero positivo:-3\n",
            "El número ingresado no es correcto. Intente de nuevo.\n",
            "Ingrese un número entero positivo:0\n",
            "El número ingresado no es correcto. Intente de nuevo.\n"
          ]
        }
      ]
    },
    {
      "cell_type": "markdown",
      "metadata": {
        "id": "7sYfI6EgKVqn"
      },
      "source": [
        "#### Escriba un programa que al recibir como dato un número entero positivo n, calcule el resultado de la siguiente serie:\n",
        "```\n",
        "1 + (1/2) + (1/3) + (1/4) + ... (1/n)\n",
        "\n",
        "```\n",
        "#### Si el usuario escribe un número incorrecto, el programa no se ejecuta. En cambio pregunta de nuevo por la información hasta que el dato ingresado sea correcto."
      ]
    },
    {
      "cell_type": "code",
      "metadata": {
        "colab": {
          "base_uri": "https://localhost:8080/"
        },
        "id": "0kL5ZfOTLA-r",
        "outputId": "0fc37d54-7af5-451a-c7d0-35a3b902d77e"
      },
      "source": [
        "n = int(input(\"Ingrese un número entero positivo:\"))\n",
        "if n > 0:\n",
        "    for i in range(1, n+1):\n",
        "        resultado += (1/i)\n",
        "        print(\"El resultado de la serie es:\" , resultado)\n",
        "else:\n",
        "    print(\"El número ingresado no es correcto. Intente de nuevo.\")        "
      ],
      "execution_count": 44,
      "outputs": [
        {
          "output_type": "stream",
          "name": "stdout",
          "text": [
            "Ingrese un número entero positivo:10\n",
            "El resultado de la serie es: 3.283333333333333\n",
            "El resultado de la serie es: 3.783333333333333\n",
            "El resultado de la serie es: 4.116666666666666\n",
            "El resultado de la serie es: 4.366666666666666\n",
            "El resultado de la serie es: 4.566666666666666\n",
            "El resultado de la serie es: 4.733333333333333\n",
            "El resultado de la serie es: 4.876190476190477\n",
            "El resultado de la serie es: 5.001190476190477\n",
            "El resultado de la serie es: 5.112301587301587\n",
            "El resultado de la serie es: 5.212301587301587\n"
          ]
        }
      ]
    },
    {
      "cell_type": "code",
      "metadata": {
        "colab": {
          "base_uri": "https://localhost:8080/"
        },
        "id": "QyOUQ2goMZpF",
        "outputId": "6d344c6e-5e8b-418d-acae-0e94f7068a39"
      },
      "source": [
        "comprobar = True\n",
        "while comprobar == True:\n",
        "    n = int(input(\"Ingrese un número entero positivo:\"))\n",
        "    if n > 0:\n",
        "        comprobar = False\n",
        "        resultado = 0\n",
        "        for i in range(1, n+1):\n",
        "            resultado += (1/i)\n",
        "            print(\"El resultado de la serie es:\" , resultado)\n",
        "    else:\n",
        "        print(\"El número ingresado no es correcto. Intente de nuevo.\")"
      ],
      "execution_count": 46,
      "outputs": [
        {
          "output_type": "stream",
          "name": "stdout",
          "text": [
            "Ingrese un número entero positivo:-5\n",
            "El número ingresado no es correcto. Intente de nuevo.\n",
            "Ingrese un número entero positivo:12\n",
            "El resultado de la serie es: 1.0\n",
            "El resultado de la serie es: 1.5\n",
            "El resultado de la serie es: 1.8333333333333333\n",
            "El resultado de la serie es: 2.083333333333333\n",
            "El resultado de la serie es: 2.283333333333333\n",
            "El resultado de la serie es: 2.4499999999999997\n",
            "El resultado de la serie es: 2.5928571428571425\n",
            "El resultado de la serie es: 2.7178571428571425\n",
            "El resultado de la serie es: 2.8289682539682537\n",
            "El resultado de la serie es: 2.9289682539682538\n",
            "El resultado de la serie es: 3.0198773448773446\n",
            "El resultado de la serie es: 3.103210678210678\n"
          ]
        }
      ]
    }
  ]
}