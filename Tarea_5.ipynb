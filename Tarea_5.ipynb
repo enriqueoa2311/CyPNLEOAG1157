{
  "nbformat": 4,
  "nbformat_minor": 0,
  "metadata": {
    "colab": {
      "name": "Tarea_5.ipynb",
      "provenance": []
    },
    "kernelspec": {
      "name": "python3",
      "display_name": "Python 3"
    },
    "language_info": {
      "name": "python"
    }
  },
  "cells": [
    {
      "cell_type": "markdown",
      "metadata": {
        "id": "shIrn4v0XqUx"
      },
      "source": [
        "# Tarea:\n",
        "# Ejercicio 1\n",
        "### Hacer un programa que pida dos números enteros y que imprima en pantalla lo siguiente:\n",
        "1. ¿Cuál de ellos es el número mayor?\n",
        "2. ¿Cuál de ellos es el número menor? o en su defecto imprimir que los valores son iguales.\n",
        "\n",
        "# Ejercicio 2\n",
        "### Hacer un programa que solicite tres números enteros diferentes entre sí y que imprima cual es el mayor.\n",
        "### Hacer un programa que solicite tres números enteros diferentes entre sí y que imprima cual es el menor.\n",
        "\n",
        "# Ejercicio 3\n",
        "### Hacer un programa que solicite cuatro números enteros diferentes entre sí e imprima a la salida cual de ellos es el menor y cual de ellos es el mayor."
      ]
    },
    {
      "cell_type": "code",
      "metadata": {
        "colab": {
          "base_uri": "https://localhost:8080/"
        },
        "id": "pMKUyr4KXWmy",
        "outputId": "f2d02798-5d57-4e6e-cf16-27b4d1a4172e"
      },
      "source": [
        "# Ejercicio 1\n",
        "n1 = int(input(\"Ingresa un número entero: \"))\n",
        "n2 = int(input(\"Ingresa un número entero: \"))\n",
        "print(f\"Escogiste los números: {n1} y {n2}\")\n",
        "if n1 != n2:\n",
        "    if n1 > n2:\n",
        "        print(f\"¿Cuál de ellos es mayor?\")\n",
        "        print(f\"El número {n1} es mayor que {n2}\")\n",
        "    elif n1 < n2:\n",
        "        print(f\"¿Cuál de ellos es menor?\")\n",
        "        print(f\"El número {n1} es menor que {n2}\")\n",
        "else:\n",
        "    print(f\"Los números {n1} y {n2} son iguales\")\n",
        "\n",
        "# Ejercicio 2.1\n",
        "n1 = int(input(\"Ingresa un número entero: \"))\n",
        "n2 = int(input(\"Ingresa un número entero: \"))\n",
        "n3 = int(input(\"Ingresa un número entero: \"))\n",
        "print(f\"Escogiste los números: {n1}, {n2} y {n3}\")\n",
        "if n1 != n2 != n3:\n",
        "    if (n1 > n2 and n1 > n3):\n",
        "        print(f\"El número mayor es: {n1}\")\n",
        "    elif (n2 > n1 and n2 > n3):\n",
        "        print(f\"El número mayor es: {n2}\")\n",
        "    else:\n",
        "        print(f\"El número mayor es: {n3}\")\n",
        "# Ejercicio 2.2\n",
        "n1 = int(input(\"Ingresa un número entero: \"))\n",
        "n2 = int(input(\"Ingresa un número entero: \"))\n",
        "n3 = int(input(\"Ingresa un número entero: \"))\n",
        "print(f\"Escogiste los números: {n1}, {n2} y {n3}\")\n",
        "if n1 != n2 != n3:\n",
        "    if (n1 < n2 and n1 < n3):\n",
        "        print(f\"El número menor es: {n1}\")\n",
        "    elif (n2 < n1 and n2 < n3):\n",
        "        print(f\"El número menor es: {n2}\")\n",
        "    else:\n",
        "        print(f\"El número menor es: {n3}\")\n",
        "\n",
        "# Ejercicio 3\n",
        "n1 = int(input(\"Ingresa un número entero: \"))\n",
        "n2 = int(input(\"Ingresa un número entero: \"))\n",
        "n3 = int(input(\"Ingresa un número entero: \"))\n",
        "n4 = int(input(\"Ingresa un número entero: \"))\n",
        "print(f\"Escogiste los números: {n1}, {n2}, {n3} y {n4}\")\n",
        "if (n1 > n2 and n1 > n3 and n1 > n4):\n",
        "    print(f\"El número mayor es: {n1}\")\n",
        "elif (n1 < n2 and n1 < n3 and n1 < n4):\n",
        "    print(f\"El número menor es: {n1}\")\n",
        "if (n2 > n1 and n2 > n3 and n2 > n4):\n",
        "    print(f\"El número mayor es: {n2}\")\n",
        "elif (n2 < n1 and n2 < n3 and n2 < n4):\n",
        "    print(f\"El número menor es: {n2}\")\n",
        "if (n3 > n1 and n3 > n2 and n3 > n4):\n",
        "    print(f\"El número mayor es: {n3}\")\n",
        "elif (n3 < n1 and n3 < n2 and n3 < n4):\n",
        "    print(f\"El número menor es: {n3}\")\n",
        "if (n4 > n1 and n4 > n2 and n4 > n3):\n",
        "    print(f\"El número mayor es: {n4}\")\n",
        "elif (n4 < n1 and n4 < n2 and n4 < n3):\n",
        "    print(f\"El número menor es: {n4}\")\n",
        "print(\"Fin del programa\")"
      ],
      "execution_count": 84,
      "outputs": [
        {
          "output_type": "stream",
          "name": "stdout",
          "text": [
            "Ingresa un número entero: 213\n",
            "Ingresa un número entero: 21\n",
            "Escogiste los números: 213 y 21\n",
            "¿Cuál de ellos es mayor?\n",
            "El número 213 es mayor que 21\n",
            "Ingresa un número entero: 14\n",
            "Ingresa un número entero: 45\n",
            "Ingresa un número entero: 57\n",
            "Escogiste los números: 14, 45 y 57\n",
            "El número mayor es: 57\n",
            "Ingresa un número entero: 14\n",
            "Ingresa un número entero: 54\n",
            "Ingresa un número entero: 21\n",
            "Escogiste los números: 14, 54 y 21\n",
            "El número menor es: 14\n",
            "Ingresa un número entero: 58\n",
            "Ingresa un número entero: 98\n",
            "Ingresa un número entero: 102\n",
            "Ingresa un número entero: 231\n",
            "Escogiste los números: 58, 98, 102 y 231\n",
            "El número menor es: 58\n",
            "El número mayor es: 231\n",
            "Fin del programa\n"
          ]
        }
      ]
    }
  ]
}