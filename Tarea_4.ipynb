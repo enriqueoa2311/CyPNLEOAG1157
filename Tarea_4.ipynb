{
  "nbformat": 4,
  "nbformat_minor": 0,
  "metadata": {
    "colab": {
      "name": "Tarea 4.ipynb",
      "provenance": []
    },
    "kernelspec": {
      "name": "python3",
      "display_name": "Python 3"
    },
    "language_info": {
      "name": "python"
    }
  },
  "cells": [
    {
      "cell_type": "markdown",
      "metadata": {
        "id": "dEzspucZ8Na3"
      },
      "source": [
        "# TAREA:\n",
        "# Con una sola función print por letra, escribir su primer nombre (nombre de pila) de la siguiente forma: \n",
        "E E E E\n",
        "E\n",
        "E E E\n",
        "E\n",
        "E E E E\n",
        "N     N\n",
        "N N   N\n",
        "N   N N\n",
        "N     N"
      ]
    },
    {
      "cell_type": "code",
      "metadata": {
        "colab": {
          "base_uri": "https://localhost:8080/"
        },
        "id": "4vZQH1S87_te",
        "outputId": "f8b82f3c-ec5c-4dee-976c-6f7417493a6e"
      },
      "source": [
        "nombre = 'E E E E\\nE\\nE E\\nE\\nE E E E\\nN     N\\nN N   N\\nN  N  N\\nN   N N\\nN    NN\\nR R R\\nR    R\\nR R R\\nR   R\\nR    R\\nI I I I\\n  I I\\n  I I\\n  I I\\\n",
        "          \\nI I I I\\n Q Q Q\\nQ     Q\\nQ     Q\\n Q Q Q\\n    Q Q Q\\nU     U\\nU     U\\nU     U\\nU     U\\n  U U\\nE E E E\\nE\\nE E\\nE\\nE E E E'\n",
        "print(nombre)"
      ],
      "execution_count": 1,
      "outputs": [
        {
          "output_type": "stream",
          "name": "stdout",
          "text": [
            "E E E E\n",
            "E\n",
            "E E\n",
            "E\n",
            "E E E E\n",
            "N     N\n",
            "N N   N\n",
            "N  N  N\n",
            "N   N N\n",
            "N    NN\n",
            "R R R\n",
            "R    R\n",
            "R R R\n",
            "R   R\n",
            "R    R\n",
            "I I I I\n",
            "  I I\n",
            "  I I\n",
            "  I I          \n",
            "I I I I\n",
            " Q Q Q\n",
            "Q     Q\n",
            "Q     Q\n",
            " Q Q Q\n",
            "    Q Q Q\n",
            "U     U\n",
            "U     U\n",
            "U     U\n",
            "U     U\n",
            "  U U\n",
            "E E E E\n",
            "E\n",
            "E E\n",
            "E\n",
            "E E E E\n"
          ]
        }
      ]
    }
  ]
}