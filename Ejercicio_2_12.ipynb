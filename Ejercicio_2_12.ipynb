{
  "nbformat": 4,
  "nbformat_minor": 0,
  "metadata": {
    "colab": {
      "name": "Ejercicio_2.12.ipynb",
      "provenance": []
    },
    "kernelspec": {
      "name": "python3",
      "display_name": "Python 3"
    },
    "language_info": {
      "name": "python"
    }
  },
  "cells": [
    {
      "cell_type": "code",
      "metadata": {
        "colab": {
          "base_uri": "https://localhost:8080/"
        },
        "id": "O8KGX0ejNFcD",
        "outputId": "ff9c1705-5f30-4bf6-849a-c499196ab57b"
      },
      "source": [
        "# Ejercicio 2.12\n",
        "A = int(input(\"Número entero:\"))\n",
        "B = int(input(\"Número entero:\"))\n",
        "C = int(input(\"Número entero:\"))\n",
        "if A == B or A == C or B == C:\n",
        "    print(\"Los números introducidos deben ser diferentes.\")\n",
        "\n",
        "if (A > B and A > C and B > C):\n",
        "    print(f\"Orden A, B, C: {A}, {B}, {C}\")\n",
        "elif (A > B and A > C and B < C):\n",
        "    print(f\"Orden A, C, B: {A}, {C}, {B}\")\n",
        "elif (A > B and A < C):\n",
        "    print(f\"Orden C, A, B: {C}, {A}, {B}\")\n",
        "elif (B > C and A > C):\n",
        "    print(f\"Orden B, A, C: {B}, {A}, {C}\")\n",
        "elif(B > C and A < C):\n",
        "    print(f\"Orden B, C, A: {B}, {C}, {A}\")\n",
        "elif (A < B and B < C):\n",
        "    print(f\"Orden C, B, A: {C}, {B}, {A}\")\n",
        "print(\"Fin del programa\")"
      ],
      "execution_count": 3,
      "outputs": [
        {
          "output_type": "stream",
          "name": "stdout",
          "text": [
            "Número entero:4\n",
            "Número entero:3\n",
            "Número entero:6\n",
            "Orden C, A, B: 6, 4, 3\n",
            "Fin del programa\n"
          ]
        }
      ]
    }
  ]
}