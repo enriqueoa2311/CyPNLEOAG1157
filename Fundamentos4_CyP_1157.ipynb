{
  "nbformat": 4,
  "nbformat_minor": 0,
  "metadata": {
    "colab": {
      "name": "Fundamentos4_CyP_1157.ipynb",
      "provenance": []
    },
    "kernelspec": {
      "name": "python3",
      "display_name": "Python 3"
    },
    "language_info": {
      "name": "python"
    }
  },
  "cells": [
    {
      "cell_type": "markdown",
      "metadata": {
        "id": "1-N4CMJ9VJ6V"
      },
      "source": [
        "Una función es una unidad de código reutilizable, además de ser un mecanismo para organizar código.\n",
        "La gran ventaja de emplear funciones es simplificar la programación.\n",
        "\n",
        "### Estructura\n",
        "Una función puede tomar cualquier cantidad de parámetros de entrada (de cualquier tipo) y retornar únicamente un solo valor.\n",
        "Un parámetro de entrada es un valor que recibe la función para realizar sus operaciones.\n",
        "\n",
        "Con una función se pueden hacer 2 cosas:\n",
        "1. Definirla.\n",
        "2. Invocarla (ejecutarla).\n",
        "\n",
        "La gran ventaja es que se puede utilzar cuando se desee.\n"
      ]
    },
    {
      "cell_type": "markdown",
      "metadata": {
        "id": "aatv7j0YUHZ0"
      },
      "source": [
        "# Modularidad (Funciones).\n",
        "\n"
      ]
    },
    {
      "cell_type": "code",
      "metadata": {
        "id": "Lp0T_2OkUD51"
      },
      "source": [
        "def sumar(op1, op2):\n",
        "    res = op1 + op2\n",
        "    return res"
      ],
      "execution_count": null,
      "outputs": []
    },
    {
      "cell_type": "code",
      "metadata": {
        "colab": {
          "base_uri": "https://localhost:8080/"
        },
        "id": "uNPdTvJkYCC7",
        "outputId": "df9e7f9a-0867-484f-d045-ca3233f2af1b"
      },
      "source": [
        "res = sumar(2,5)\n",
        "print(res)\n",
        "res = sumar(33,22)\n",
        "print(res)"
      ],
      "execution_count": null,
      "outputs": [
        {
          "output_type": "stream",
          "name": "stdout",
          "text": [
            "7\n",
            "55\n"
          ]
        }
      ]
    },
    {
      "cell_type": "code",
      "metadata": {
        "colab": {
          "base_uri": "https://localhost:8080/"
        },
        "id": "3yCMaX3bZO8d",
        "outputId": "b1f4b688-8a69-49e9-f96c-82d265d52bdd"
      },
      "source": [
        "print(\"Hola\", \"Jesús\",sep=\"-\")"
      ],
      "execution_count": null,
      "outputs": [
        {
          "output_type": "stream",
          "name": "stdout",
          "text": [
            "Hola-Jesús\n"
          ]
        }
      ]
    },
    {
      "cell_type": "code",
      "metadata": {
        "colab": {
          "base_uri": "https://localhost:8080/"
        },
        "id": "fwU6qbjkaW2c",
        "outputId": "40c80e68-4f1c-406d-fb69-5b9488310fae"
      },
      "source": [
        "def imprime_cuadro():\n",
        "    print(\"****\")\n",
        "    print(\"****\")\n",
        "    print(\"****\")\n",
        "    print(\"****\")\n",
        "    #return None\n",
        "imprime_cuadro()"
      ],
      "execution_count": null,
      "outputs": [
        {
          "output_type": "stream",
          "name": "stdout",
          "text": [
            "****\n",
            "****\n",
            "****\n",
            "****\n"
          ]
        }
      ]
    },
    {
      "cell_type": "code",
      "metadata": {
        "id": "Il-bcC-Xak0q"
      },
      "source": [
        ""
      ],
      "execution_count": null,
      "outputs": []
    },
    {
      "cell_type": "markdown",
      "metadata": {
        "id": "IAdlcK9Aa7t8"
      },
      "source": [
        "# Valor de retorno de una función\n",
        "\n",
        "Regla de oro.- Una función siempre retorna en un solo valor. Inclusive si ese valor es el vacío."
      ]
    },
    {
      "cell_type": "code",
      "metadata": {
        "colab": {
          "base_uri": "https://localhost:8080/"
        },
        "id": "xE6dPw4jbLTD",
        "outputId": "9a3ec333-cd07-4676-b083-eda38f2f7d19"
      },
      "source": [
        "# Invocar sumar\n",
        "res = sumar(7,8)\n",
        "print(res)\n",
        "# Invocar la función pintar cuadro\n",
        "res = imprime_cuadro()\n",
        "print(res)"
      ],
      "execution_count": null,
      "outputs": [
        {
          "output_type": "stream",
          "name": "stdout",
          "text": [
            "15\n",
            "****\n",
            "****\n",
            "****\n",
            "****\n",
            "None\n"
          ]
        }
      ]
    },
    {
      "cell_type": "markdown",
      "metadata": {
        "id": "PIYnnR8vdGBT"
      },
      "source": [
        "# La palabra reservada None de Python\n",
        "Esta palabra reservada significa vacío, equivalente a la palabra reservada Void del lenguaje C, C++ y Java.\n",
        "\n",
        "Se usa para indicar ya sea un return vacío o que se recibe como parámetro un vacío."
      ]
    },
    {
      "cell_type": "code",
      "metadata": {
        "id": "sgY3oghvdse7"
      },
      "source": [
        "def multiplicar(valor,veces):\n",
        "    c = valor * veces\n",
        "    return c"
      ],
      "execution_count": null,
      "outputs": []
    },
    {
      "cell_type": "code",
      "metadata": {
        "id": "94bylobdeIU7"
      },
      "source": [
        "res = multiplicar(None,5)\n",
        "print(res)"
      ],
      "execution_count": null,
      "outputs": []
    },
    {
      "cell_type": "code",
      "metadata": {
        "id": "iaMNEPWMewsF"
      },
      "source": [
        "def multiplicar(valor,veces):\n",
        "    if valor == None:\n",
        "        c=-1\n",
        "    else:\n",
        "        c = valor * veces\n",
        "    return c"
      ],
      "execution_count": null,
      "outputs": []
    },
    {
      "cell_type": "code",
      "metadata": {
        "colab": {
          "base_uri": "https://localhost:8080/"
        },
        "id": "mjD1hgqqe9-I",
        "outputId": "c63b1169-8efc-4497-88ea-f7d89ba4d9f2"
      },
      "source": [
        "res = multiplicar(None,5)\n",
        "print(res)"
      ],
      "execution_count": null,
      "outputs": [
        {
          "output_type": "stream",
          "name": "stdout",
          "text": [
            "-1\n"
          ]
        }
      ]
    },
    {
      "cell_type": "markdown",
      "metadata": {
        "id": "0xvXE8Vwfge0"
      },
      "source": [
        "# Parámetros y argumentos\n",
        "Son conceptos relacionados y su diferencia está centrada en el momento en que se emplea en una función.\n",
        "Es decir, en la función sumar de arriba, cuando se declara se le llama parámetro y cuando se invoca se le llama argumento."
      ]
    },
    {
      "cell_type": "markdown",
      "metadata": {
        "id": "Oyl_VxhBfd6A"
      },
      "source": [
        "# Argumentos posicionales\n",
        "En Python es posible determinar a qué parámetros están dirigidos los argumentos, según su posición.\n"
      ]
    },
    {
      "cell_type": "code",
      "metadata": {
        "id": "K9_55RK6gsKA"
      },
      "source": [
        "def dividir(op1, op2):\n",
        "    c = op1/op2\n",
        "    return c"
      ],
      "execution_count": null,
      "outputs": []
    },
    {
      "cell_type": "code",
      "metadata": {
        "colab": {
          "base_uri": "https://localhost:8080/"
        },
        "id": "VZTssw0Mg1Oc",
        "outputId": "4f7ae2d9-13bc-4b4a-ebc5-40c6143e4480"
      },
      "source": [
        "num1 = 25\n",
        "num2 = 5\n",
        "res = dividir(num1,num2)\n",
        "print(res)\n",
        "res = dividir(num2,num1)\n",
        "print(res)"
      ],
      "execution_count": null,
      "outputs": [
        {
          "output_type": "stream",
          "name": "stdout",
          "text": [
            "5.0\n",
            "0.2\n"
          ]
        }
      ]
    },
    {
      "cell_type": "markdown",
      "metadata": {
        "id": "25xUEgR0hRmy"
      },
      "source": [
        "# Argumentos con palabras clave (keywords)\n",
        "Es la posibilidad de indicarle a la función en tiempo de ejecución a qué parámetro va dirigido un argumento de entrada.\n",
        "Sólo disponible en Python."
      ]
    },
    {
      "cell_type": "code",
      "metadata": {
        "colab": {
          "base_uri": "https://localhost:8080/"
        },
        "id": "bd5zTv0Fh9gQ",
        "outputId": "07c70c13-e41f-4e11-8397-86737e762492"
      },
      "source": [
        "res = dividir(op2=num2,op1=num1)\n",
        "print(res)"
      ],
      "execution_count": null,
      "outputs": [
        {
          "output_type": "stream",
          "name": "stdout",
          "text": [
            "5.0\n"
          ]
        }
      ]
    },
    {
      "cell_type": "code",
      "metadata": {
        "id": "F_vqzG5XifN_"
      },
      "source": [
        "def letra_J(caracter):\n",
        "    print(f\"      {caracter}\")\n",
        "    print(f\"      {caracter}\")\n",
        "    print(f\"      {caracter}\")\n",
        "    print(f\"      {caracter}\")\n",
        "    print(f\"      {caracter}\")\n",
        "    print(f\"{caracter} {caracter} {caracter} {caracter}\")"
      ],
      "execution_count": null,
      "outputs": []
    },
    {
      "cell_type": "code",
      "metadata": {
        "colab": {
          "base_uri": "https://localhost:8080/"
        },
        "id": "0Tfenhrliu4r",
        "outputId": "c7c0115c-e883-462d-c327-4252564c3135"
      },
      "source": [
        "letra_J(\"+\")"
      ],
      "execution_count": null,
      "outputs": [
        {
          "output_type": "stream",
          "name": "stdout",
          "text": [
            "      +\n",
            "      +\n",
            "      +\n",
            "      +\n",
            "      +\n",
            "+ + + +\n"
          ]
        }
      ]
    },
    {
      "cell_type": "markdown",
      "source": [
        "# Argumento por defecto\n",
        "Es la capacidad de las funciones de establecer un valor de defecto (Default).\n",
        "Si no se envía un argumento a dicho parámetro, entonces se asigna el que el programa asignó como *default*."
      ],
      "metadata": {
        "id": "9AqMF3By-FMn"
      }
    },
    {
      "cell_type": "code",
      "source": [
        "def dividir (op1,op2=2):\n",
        "    c = op1 / op2\n",
        "    return c\n",
        "\n",
        "print(dividir(25))"
      ],
      "metadata": {
        "colab": {
          "base_uri": "https://localhost:8080/"
        },
        "id": "kIrJCzUc-n-b",
        "outputId": "958a7608-3e5c-4806-c131-4516c7c6b348"
      },
      "execution_count": 3,
      "outputs": [
        {
          "output_type": "stream",
          "name": "stdout",
          "text": [
            "12.5\n"
          ]
        }
      ]
    },
    {
      "cell_type": "markdown",
      "source": [
        "Este concepto se puede ejemplificar con la función **print**. "
      ],
      "metadata": {
        "id": "3eH38P9k_Gye"
      }
    },
    {
      "cell_type": "code",
      "source": [
        "help(print)"
      ],
      "metadata": {
        "colab": {
          "base_uri": "https://localhost:8080/"
        },
        "id": "kbob-jPx_OOw",
        "outputId": "7ed85edf-b712-4680-cb9c-6b28d3771860"
      },
      "execution_count": 4,
      "outputs": [
        {
          "output_type": "stream",
          "name": "stdout",
          "text": [
            "Help on built-in function print in module builtins:\n",
            "\n",
            "print(...)\n",
            "    print(value, ..., sep=' ', end='\\n', file=sys.stdout, flush=False)\n",
            "    \n",
            "    Prints the values to a stream, or to sys.stdout by default.\n",
            "    Optional keyword arguments:\n",
            "    file:  a file-like object (stream); defaults to the current sys.stdout.\n",
            "    sep:   string inserted between values, default a space.\n",
            "    end:   string appended after the last value, default a newline.\n",
            "    flush: whether to forcibly flush the stream.\n",
            "\n"
          ]
        }
      ]
    },
    {
      "cell_type": "code",
      "source": [
        "nombre  = \"José\"\n",
        "edad = 18\n",
        "print(nombre,edad,sep=\":)\")\n",
        "print(\"Hola\",end=\" \")\n",
        "print(\"------\")"
      ],
      "metadata": {
        "colab": {
          "base_uri": "https://localhost:8080/"
        },
        "id": "RuiXTJgM_qtN",
        "outputId": "8f239090-3d00-4de6-ff8e-cd9f8a438797"
      },
      "execution_count": 7,
      "outputs": [
        {
          "output_type": "stream",
          "name": "stdout",
          "text": [
            "José:)18\n",
            "Hola ------\n"
          ]
        }
      ]
    },
    {
      "cell_type": "markdown",
      "source": [
        "# Ejercicios de argumentos posicionales"
      ],
      "metadata": {
        "id": "SS08xVpqAqmA"
      }
    },
    {
      "cell_type": "code",
      "source": [
        "def comanda(comensal=1,primer=\"Consome\",segundo=\"Arroz rojo\",tercero=\"Enchiladas\"):\n",
        "    print(f\"El comensal {comensal} quiere:\")\n",
        "    print(\"\\t Entrada:\", primer)\n",
        "    print(\"\\t Medio:\", segundo)\n",
        "    print(\"\\t Plato fuerte:\", tercero)\n",
        "\n",
        "comanda()\n",
        "\n",
        "comanda(3,\"Ensalada\",\"Arroz blanco\",\"Esparragos al horno\")\n",
        "comanda(\"Arroz blanco\",\"Esparragos al horno\",\"Ensalada\",3)\n",
        "comanda(segundo=\"Arroz blanco\",tercero=\"Esparragos al horno\",primer=\"Ensalada\",comensal=3)"
      ],
      "metadata": {
        "colab": {
          "base_uri": "https://localhost:8080/"
        },
        "id": "u-EBCMUXA1ru",
        "outputId": "b1ef09e8-f49e-471a-b1f6-e99a41f4b919"
      },
      "execution_count": 18,
      "outputs": [
        {
          "output_type": "stream",
          "name": "stdout",
          "text": [
            "El comensal 1 quiere:\n",
            "\t Entrada: Consome\n",
            "\t Medio: Arroz rojo\n",
            "\t Plato fuerte: Enchiladas\n",
            "El comensal 3 quiere:\n",
            "\t Entrada: Ensalada\n",
            "\t Medio: Arroz blanco\n",
            "\t Plato fuerte: Esparragos al horno\n",
            "El comensal Arroz blanco quiere:\n",
            "\t Entrada: Esparragos al horno\n",
            "\t Medio: Ensalada\n",
            "\t Plato fuerte: 3\n",
            "El comensal 3 quiere:\n",
            "\t Entrada: Ensalada\n",
            "\t Medio: Arroz blanco\n",
            "\t Plato fuerte: Esparragos al horno\n"
          ]
        }
      ]
    },
    {
      "cell_type": "markdown",
      "source": [
        "# Argumentos enviados en grupo en una tupla\n",
        "Esto sirve para enviar múltiples argumentos a una función empleando el comodín *.\n",
        "```\n",
        "def mifun(*args):\n",
        "    <cuerpo de la función>\n",
        "```"
      ],
      "metadata": {
        "id": "xmuT-d9KDfES"
      }
    },
    {
      "cell_type": "code",
      "source": [
        "def comanda2 (*opciones):\n",
        "    #print(opciones)\n",
        "    print(f\"El comensal {opciones[0]} pidió:\")\n",
        "    print(\"\\t Entrada:\",opciones[1])\n",
        "    print(\"\\t Segundo:\",opciones[2])\n",
        "    print(\"\\t Plato fuerte:\",opciones[3])\n",
        "    print(\"Indicaciones extra:\")\n",
        "    for instruccion in opciones[4::]:\n",
        "        print(\"\\n\",instruccion)\n",
        "\n",
        "comanda2(1,\"Sopa de fideo\",\"Arroz\",\"Arrachera\",\"La arrachera que aún se mueva\",\"Postre gelatina\")"
      ],
      "metadata": {
        "colab": {
          "base_uri": "https://localhost:8080/"
        },
        "id": "ZcVBQAwVEL5Z",
        "outputId": "b604a4c7-0b29-4085-8f90-fe62907e7edd"
      },
      "execution_count": 29,
      "outputs": [
        {
          "output_type": "stream",
          "name": "stdout",
          "text": [
            "El comensal 1 pidió:\n",
            "\t Entrada: Sopa de fideo\n",
            "\t Segundo: Arroz\n",
            "\t Plato fuerte: Arrachera\n",
            "Indicaciones extra:\n",
            "\n",
            " La arrachera que aún se mueva\n",
            "\n",
            " Postre gelatina\n"
          ]
        }
      ]
    },
    {
      "cell_type": "markdown",
      "source": [
        "# Argumentos enviados en grupo en un diccionario.\n",
        "Es el mismo concepto que el anterior pero se usa el comodín ** y se mapea a un diccionario."
      ],
      "metadata": {
        "id": "B8o0nVHmG9TF"
      }
    },
    {
      "cell_type": "code",
      "source": [
        "def comanda3(**opciones):\n",
        "    ops = opciones.keys()\n",
        "    print(ops)\n",
        "    for key in ops:\n",
        "        print(f\"{key} = {opciones[key]}\")\n",
        "\n",
        "comanda3(segundo=\"arroz blanco\",tercero=\"Esparragos al horno\",primer=\"Ensalada\",comensal=3)"
      ],
      "metadata": {
        "colab": {
          "base_uri": "https://localhost:8080/"
        },
        "id": "SxztHRj1HI8Z",
        "outputId": "9998eae3-390f-4cd3-ed61-cbb0e84643e2"
      },
      "execution_count": 35,
      "outputs": [
        {
          "output_type": "stream",
          "name": "stdout",
          "text": [
            "dict_keys(['segundo', 'tercero', 'primer', 'comensal'])\n",
            "segundo = arroz blanco\n",
            "tercero = Esparragos al horno\n",
            "primer = Ensalada\n",
            "comensal = 3\n"
          ]
        }
      ]
    },
    {
      "cell_type": "markdown",
      "source": [
        "# Modularidad y bibliotecas.\n",
        "Todos los lenguajes de programación tienen la capacidad de compartir código entre la comunidad de programadores.\n",
        "Para ello, cada lenguaje establece un mecanismo para escribir y compartir bibliotecas."
      ],
      "metadata": {
        "id": "99v6fZfwJryl"
      }
    },
    {
      "cell_type": "code",
      "source": [
        "!ls sample_data"
      ],
      "metadata": {
        "colab": {
          "base_uri": "https://localhost:8080/"
        },
        "id": "GxQza6sAMImo",
        "outputId": "b511258c-734f-4b26-e4ce-512bd0ed1815"
      },
      "execution_count": 36,
      "outputs": [
        {
          "output_type": "stream",
          "name": "stdout",
          "text": [
            "anscombe.json\t\t      mnist_test.csv\n",
            "california_housing_test.csv   mnist_train_small.csv\n",
            "california_housing_train.csv  README.md\n"
          ]
        }
      ]
    },
    {
      "cell_type": "code",
      "source": [
        "!pip install simple_chalk"
      ],
      "metadata": {
        "colab": {
          "base_uri": "https://localhost:8080/"
        },
        "id": "5UWTrn9TMZQU",
        "outputId": "02eb2b71-5ab1-440e-92a8-60169a7aa03d"
      },
      "execution_count": 37,
      "outputs": [
        {
          "output_type": "stream",
          "name": "stdout",
          "text": [
            "Collecting simple_chalk\n",
            "  Downloading simple_chalk-0.1.0.tar.gz (13 kB)\n",
            "Building wheels for collected packages: simple-chalk\n",
            "  Building wheel for simple-chalk (setup.py) ... \u001b[?25l\u001b[?25hdone\n",
            "  Created wheel for simple-chalk: filename=simple_chalk-0.1.0-py3-none-any.whl size=22163 sha256=aa817bed0ed419f6fcb6f7307b356691f00d389124421ffb614f86d617c168c4\n",
            "  Stored in directory: /root/.cache/pip/wheels/24/e2/84/d54838032016039eef79df1137b91defaa6db068d825dfcdcd\n",
            "Successfully built simple-chalk\n",
            "Installing collected packages: simple-chalk\n",
            "Successfully installed simple-chalk-0.1.0\n"
          ]
        }
      ]
    },
    {
      "cell_type": "code",
      "source": [
        "from simple_chalk import chalk, yellow\n",
        "print(chalk.yellow(\"Hola en color amarillo\"))"
      ],
      "metadata": {
        "colab": {
          "base_uri": "https://localhost:8080/"
        },
        "id": "VqmIwmd6NCid",
        "outputId": "c50f01e4-e1a8-4524-b5fa-875efd8633e0"
      },
      "execution_count": 40,
      "outputs": [
        {
          "output_type": "stream",
          "name": "stdout",
          "text": [
            "\u001b[33mHola en color amarillo\u001b[0m\n"
          ]
        }
      ]
    },
    {
      "cell_type": "code",
      "source": [
        "print(\"Hola con color amarillo\")"
      ],
      "metadata": {
        "id": "O24VYIbGK556"
      },
      "execution_count": null,
      "outputs": []
    },
    {
      "cell_type": "markdown",
      "source": [
        "# ¿Cómo escribo un módulo (biblioteca)?\n",
        "Se define en un archivo de biblioteca."
      ],
      "metadata": {
        "id": "rr0DC7jKPFKQ"
      }
    },
    {
      "cell_type": "code",
      "source": [
        "!cat mi_módulo.py"
      ],
      "metadata": {
        "colab": {
          "base_uri": "https://localhost:8080/"
        },
        "id": "xOIcKTXDPNWY",
        "outputId": "5c49c1be-c923-4fc9-f94f-46a5e11c6001"
      },
      "execution_count": 41,
      "outputs": [
        {
          "output_type": "stream",
          "name": "stdout",
          "text": [
            "def sumar(a,b):\r\n",
            "    return a + b\r\n",
            "\r\n",
            "def mi_print(texto,final):\r\n",
            "    print(\"Super:\",texto,end=final)"
          ]
        }
      ]
    },
    {
      "cell_type": "code",
      "source": [
        "import mi_módulo\n",
        "\n",
        "res = mi_módulo.sumar(7,5)\n",
        "print(res)\n",
        "\n",
        "mi_módulo.mi_print(\"Enrique\",\"\\n\")"
      ],
      "metadata": {
        "colab": {
          "base_uri": "https://localhost:8080/"
        },
        "id": "yDWJcwaPQt1a",
        "outputId": "fcbfe7a9-cf71-4018-83af-c91d83f78c93"
      },
      "execution_count": 43,
      "outputs": [
        {
          "output_type": "stream",
          "name": "stdout",
          "text": [
            "12\n",
            "Super: Enrique\n"
          ]
        }
      ]
    },
    {
      "cell_type": "code",
      "source": [
        "from mi_módulo import sumar, mi_print\n",
        "res = sumar(5,3)\n",
        "print(res)\n",
        "mi_print(\"Enrique\",\"\\n\")"
      ],
      "metadata": {
        "colab": {
          "base_uri": "https://localhost:8080/"
        },
        "id": "XJ8EfqEvSERN",
        "outputId": "d5a0051e-a825-4f10-de91-1dfe81b174ba"
      },
      "execution_count": 45,
      "outputs": [
        {
          "output_type": "stream",
          "name": "stdout",
          "text": [
            "8\n",
            "Super: Enrique\n"
          ]
        }
      ]
    },
    {
      "cell_type": "markdown",
      "source": [
        "# Manejo de archivos con Python3\n",
        "- Leer archivos.\n",
        "- Escribir en archivos.\n",
        "- Manipular información leída desde un archivo.\n",
        "- Formatos de archivo."
      ],
      "metadata": {
        "id": "7sVuiXUxSs1x"
      }
    },
    {
      "cell_type": "code",
      "source": [
        "archivo = open(\"salida.txt\",\"wt\")\n",
        "archivo.write(\"Hola mundo\")\n",
        "archivo.close"
      ],
      "metadata": {
        "colab": {
          "base_uri": "https://localhost:8080/"
        },
        "id": "e1HRDKsKS5df",
        "outputId": "e189724d-e5ed-4fad-cfdd-8450ff01d858"
      },
      "execution_count": 49,
      "outputs": [
        {
          "output_type": "execute_result",
          "data": {
            "text/plain": [
              "<function TextIOWrapper.close>"
            ]
          },
          "metadata": {},
          "execution_count": 49
        }
      ]
    },
    {
      "cell_type": "code",
      "source": [
        "!cat salida.txt"
      ],
      "metadata": {
        "colab": {
          "base_uri": "https://localhost:8080/"
        },
        "id": "TTY51Pz2TOIR",
        "outputId": "c29e93b1-53be-4f7a-f2ce-519f743f2d75"
      },
      "execution_count": 50,
      "outputs": [
        {
          "output_type": "stream",
          "name": "stdout",
          "text": [
            "Hola mundo"
          ]
        }
      ]
    }
  ]
}