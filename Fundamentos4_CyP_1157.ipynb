{
  "nbformat": 4,
  "nbformat_minor": 0,
  "metadata": {
    "colab": {
      "name": "Fundamentos4_CyP_1157.ipynb",
      "provenance": []
    },
    "kernelspec": {
      "name": "python3",
      "display_name": "Python 3"
    },
    "language_info": {
      "name": "python"
    }
  },
  "cells": [
    {
      "cell_type": "markdown",
      "metadata": {
        "id": "1-N4CMJ9VJ6V"
      },
      "source": [
        "Una función es una unidad de código reutilizable, además de ser un mecanismo para organizar código.\n",
        "La gran ventaja de emplear funciones es simplificar la programación.\n",
        "\n",
        "### Estructura\n",
        "Una función puede tomar cualquier cantidad de parámetros de entrada (de cualquier tipo) y retornar únicamente un solo valor.\n",
        "Un parámetro de entrada es un valor que recibe la función para realizar sus operaciones.\n",
        "\n",
        "Con una función se pueden hacer 2 cosas:\n",
        "1. Definirla.\n",
        "2. Invocarla (ejecutarla).\n",
        "\n",
        "La gran ventaja es que se puede utilzar cuando se desee.\n"
      ]
    },
    {
      "cell_type": "markdown",
      "metadata": {
        "id": "aatv7j0YUHZ0"
      },
      "source": [
        "# Modularidad (Funciones).\n",
        "\n"
      ]
    },
    {
      "cell_type": "code",
      "metadata": {
        "id": "Lp0T_2OkUD51"
      },
      "source": [
        "def sumar(op1, op2):\n",
        "    res = op1 + op2\n",
        "    return res"
      ],
      "execution_count": null,
      "outputs": []
    },
    {
      "cell_type": "code",
      "metadata": {
        "id": "uNPdTvJkYCC7"
      },
      "source": [
        "res = sumar(2,5)\n",
        "print(res)\n",
        "res = sumar(33,22)\n",
        "print(res)"
      ],
      "execution_count": null,
      "outputs": []
    },
    {
      "cell_type": "code",
      "metadata": {
        "id": "3yCMaX3bZO8d"
      },
      "source": [
        "print(\"Hola\", \"Jesús\",sep=\"-\")"
      ],
      "execution_count": null,
      "outputs": []
    },
    {
      "cell_type": "code",
      "metadata": {
        "id": "fwU6qbjkaW2c"
      },
      "source": [
        "def imprime_cuadro():\n",
        "    print(\"****\")\n",
        "    print(\"****\")\n",
        "    print(\"****\")\n",
        "    print(\"****\")\n",
        "    #return None\n",
        "imprime_cuadro()"
      ],
      "execution_count": null,
      "outputs": []
    },
    {
      "cell_type": "code",
      "metadata": {
        "id": "Il-bcC-Xak0q"
      },
      "source": [
        ""
      ],
      "execution_count": null,
      "outputs": []
    },
    {
      "cell_type": "markdown",
      "metadata": {
        "id": "IAdlcK9Aa7t8"
      },
      "source": [
        "# Valor de retorno de una función\n",
        "\n",
        "Regla de oro.- Una función siempre retorna en un solo valor. Inclusive si ese valor es el vacío."
      ]
    },
    {
      "cell_type": "code",
      "metadata": {
        "id": "xE6dPw4jbLTD"
      },
      "source": [
        "# Invocar sumar\n",
        "res = sumar(7,8)\n",
        "print(res)\n",
        "# Invocar la función pintar cuadro\n",
        "res = imprime_cuadro()\n",
        "print(res)"
      ],
      "execution_count": null,
      "outputs": []
    },
    {
      "cell_type": "markdown",
      "metadata": {
        "id": "PIYnnR8vdGBT"
      },
      "source": [
        "# La palabra reservada None de Python\n",
        "Esta palabra reservada significa vacío, equivalente a la palabra reservada Void del lenguaje C, C++ y Java.\n",
        "\n",
        "Se usa para indicar ya sea un return vacío o que se recibe como parámetro un vacío."
      ]
    },
    {
      "cell_type": "code",
      "metadata": {
        "id": "sgY3oghvdse7"
      },
      "source": [
        "def multiplicar(valor,veces):\n",
        "    c = valor * veces\n",
        "    return c"
      ],
      "execution_count": null,
      "outputs": []
    },
    {
      "cell_type": "code",
      "metadata": {
        "id": "94bylobdeIU7"
      },
      "source": [
        "res = multiplicar(None,5)\n",
        "print(res)"
      ],
      "execution_count": null,
      "outputs": []
    },
    {
      "cell_type": "code",
      "metadata": {
        "id": "iaMNEPWMewsF"
      },
      "source": [
        "def multiplicar(valor,veces):\n",
        "    if valor == None:\n",
        "        c=-1\n",
        "    else:\n",
        "        c = valor * veces\n",
        "    return c"
      ],
      "execution_count": null,
      "outputs": []
    },
    {
      "cell_type": "code",
      "metadata": {
        "id": "mjD1hgqqe9-I"
      },
      "source": [
        "res = multiplicar(None,5)\n",
        "print(res)"
      ],
      "execution_count": null,
      "outputs": []
    },
    {
      "cell_type": "markdown",
      "metadata": {
        "id": "0xvXE8Vwfge0"
      },
      "source": [
        "# Parámetros y argumentos\n",
        "Son conceptos relacionados y su diferencia está centrada en el momento en que se emplea en una función.\n",
        "Es decir, en la función sumar de arriba, cuando se declara se le llama parámetro y cuando se invoca se le llama argumento."
      ]
    },
    {
      "cell_type": "markdown",
      "metadata": {
        "id": "Oyl_VxhBfd6A"
      },
      "source": [
        "# Argumentos posicionales\n",
        "En Python es posible determinar a qué parámetros están dirigidos los argumentos, según su posición.\n"
      ]
    },
    {
      "cell_type": "code",
      "metadata": {
        "id": "K9_55RK6gsKA"
      },
      "source": [
        "def dividir(op1, op2):\n",
        "    c = op1/op2\n",
        "    return c"
      ],
      "execution_count": null,
      "outputs": []
    },
    {
      "cell_type": "code",
      "metadata": {
        "id": "VZTssw0Mg1Oc"
      },
      "source": [
        "num1 = 25\n",
        "num2 = 5\n",
        "res = dividir(num1,num2)\n",
        "print(res)\n",
        "res = dividir(num2,num1)\n",
        "print(res)"
      ],
      "execution_count": null,
      "outputs": []
    },
    {
      "cell_type": "markdown",
      "metadata": {
        "id": "25xUEgR0hRmy"
      },
      "source": [
        "# Argumentos con palabras clave (keywords)\n",
        "Es la posibilidad de indicarle a la función en tiempo de ejecución a qué parámetro va dirigido un argumento de entrada.\n",
        "Sólo disponible en Python."
      ]
    },
    {
      "cell_type": "code",
      "metadata": {
        "id": "bd5zTv0Fh9gQ"
      },
      "source": [
        "res = dividir(op2=num2,op1=num1)\n",
        "print(res)"
      ],
      "execution_count": null,
      "outputs": []
    },
    {
      "cell_type": "code",
      "metadata": {
        "id": "F_vqzG5XifN_"
      },
      "source": [
        "def letra_J(caracter):\n",
        "    print(f\"      {caracter}\")\n",
        "    print(f\"      {caracter}\")\n",
        "    print(f\"      {caracter}\")\n",
        "    print(f\"      {caracter}\")\n",
        "    print(f\"      {caracter}\")\n",
        "    print(f\"{caracter} {caracter} {caracter} {caracter}\")"
      ],
      "execution_count": null,
      "outputs": []
    },
    {
      "cell_type": "code",
      "metadata": {
        "id": "0Tfenhrliu4r"
      },
      "source": [
        "letra_J(\"+\")"
      ],
      "execution_count": null,
      "outputs": []
    },
    {
      "cell_type": "markdown",
      "source": [
        "# Argumento por defecto\n",
        "Es la capacidad de las funciones de establecer un valor de defecto (Default).\n",
        "Si no se envía un argumento a dicho parámetro, entonces se asigna el que el programa asignó como *default*."
      ],
      "metadata": {
        "id": "9AqMF3By-FMn"
      }
    },
    {
      "cell_type": "code",
      "source": [
        "def dividir (op1,op2=2):\n",
        "    c = op1 / op2\n",
        "    return c\n",
        "\n",
        "print(dividir(25))"
      ],
      "metadata": {
        "id": "kIrJCzUc-n-b"
      },
      "execution_count": null,
      "outputs": []
    },
    {
      "cell_type": "markdown",
      "source": [
        "Este concepto se puede ejemplificar con la función **print**. "
      ],
      "metadata": {
        "id": "3eH38P9k_Gye"
      }
    },
    {
      "cell_type": "code",
      "source": [
        "help(print)"
      ],
      "metadata": {
        "id": "kbob-jPx_OOw"
      },
      "execution_count": null,
      "outputs": []
    },
    {
      "cell_type": "code",
      "source": [
        "nombre  = \"José\"\n",
        "edad = 18\n",
        "print(nombre,edad,sep=\":)\")\n",
        "print(\"Hola\",end=\" \")\n",
        "print(\"------\")"
      ],
      "metadata": {
        "id": "RuiXTJgM_qtN"
      },
      "execution_count": null,
      "outputs": []
    },
    {
      "cell_type": "markdown",
      "source": [
        "# Ejercicios de argumentos posicionales"
      ],
      "metadata": {
        "id": "SS08xVpqAqmA"
      }
    },
    {
      "cell_type": "code",
      "source": [
        "def comanda(comensal=1,primer=\"Consome\",segundo=\"Arroz rojo\",tercero=\"Enchiladas\"):\n",
        "    print(f\"El comensal {comensal} quiere:\")\n",
        "    print(\"\\t Entrada:\", primer)\n",
        "    print(\"\\t Medio:\", segundo)\n",
        "    print(\"\\t Plato fuerte:\", tercero)\n",
        "\n",
        "comanda()\n",
        "\n",
        "comanda(3,\"Ensalada\",\"Arroz blanco\",\"Esparragos al horno\")\n",
        "comanda(\"Arroz blanco\",\"Esparragos al horno\",\"Ensalada\",3)\n",
        "comanda(segundo=\"Arroz blanco\",tercero=\"Esparragos al horno\",primer=\"Ensalada\",comensal=3)"
      ],
      "metadata": {
        "id": "u-EBCMUXA1ru"
      },
      "execution_count": null,
      "outputs": []
    },
    {
      "cell_type": "markdown",
      "source": [
        "# Argumentos enviados en grupo en una tupla\n",
        "Esto sirve para enviar múltiples argumentos a una función empleando el comodín *.\n",
        "```\n",
        "def mifun(*args):\n",
        "    <cuerpo de la función>\n",
        "```"
      ],
      "metadata": {
        "id": "xmuT-d9KDfES"
      }
    },
    {
      "cell_type": "code",
      "source": [
        "def comanda2 (*opciones):\n",
        "    #print(opciones)\n",
        "    print(f\"El comensal {opciones[0]} pidió:\")\n",
        "    print(\"\\t Entrada:\",opciones[1])\n",
        "    print(\"\\t Segundo:\",opciones[2])\n",
        "    print(\"\\t Plato fuerte:\",opciones[3])\n",
        "    print(\"Indicaciones extra:\")\n",
        "    for instruccion in opciones[4::]:\n",
        "        print(\"\\n\",instruccion)\n",
        "\n",
        "comanda2(1,\"Sopa de fideo\",\"Arroz\",\"Arrachera\",\"La arrachera que aún se mueva\",\"Postre gelatina\")"
      ],
      "metadata": {
        "id": "ZcVBQAwVEL5Z"
      },
      "execution_count": null,
      "outputs": []
    },
    {
      "cell_type": "markdown",
      "source": [
        "# Argumentos enviados en grupo en un diccionario.\n",
        "Es el mismo concepto que el anterior pero se usa el comodín ** y se mapea a un diccionario."
      ],
      "metadata": {
        "id": "B8o0nVHmG9TF"
      }
    },
    {
      "cell_type": "code",
      "source": [
        "def comanda3(**opciones):\n",
        "    ops = opciones.keys()\n",
        "    print(ops)\n",
        "    for key in ops:\n",
        "        print(f\"{key} = {opciones[key]}\")\n",
        "\n",
        "comanda3(segundo=\"arroz blanco\",tercero=\"Esparragos al horno\",primer=\"Ensalada\",comensal=3)"
      ],
      "metadata": {
        "id": "SxztHRj1HI8Z"
      },
      "execution_count": null,
      "outputs": []
    },
    {
      "cell_type": "markdown",
      "source": [
        "# Modularidad y bibliotecas.\n",
        "Todos los lenguajes de programación tienen la capacidad de compartir código entre la comunidad de programadores.\n",
        "Para ello, cada lenguaje establece un mecanismo para escribir y compartir bibliotecas."
      ],
      "metadata": {
        "id": "99v6fZfwJryl"
      }
    },
    {
      "cell_type": "code",
      "source": [
        "!ls sample_data"
      ],
      "metadata": {
        "id": "GxQza6sAMImo"
      },
      "execution_count": null,
      "outputs": []
    },
    {
      "cell_type": "code",
      "source": [
        "!pip install simple_chalk"
      ],
      "metadata": {
        "id": "5UWTrn9TMZQU"
      },
      "execution_count": null,
      "outputs": []
    },
    {
      "cell_type": "code",
      "source": [
        "from simple_chalk import chalk, yellow\n",
        "print(chalk.yellow(\"Hola en color amarillo\"))"
      ],
      "metadata": {
        "id": "VqmIwmd6NCid"
      },
      "execution_count": null,
      "outputs": []
    },
    {
      "cell_type": "code",
      "source": [
        "print(\"Hola con color amarillo\")"
      ],
      "metadata": {
        "id": "O24VYIbGK556"
      },
      "execution_count": null,
      "outputs": []
    },
    {
      "cell_type": "markdown",
      "source": [
        "# ¿Cómo escribo un módulo (biblioteca)?\n",
        "Se define en un archivo de biblioteca."
      ],
      "metadata": {
        "id": "rr0DC7jKPFKQ"
      }
    },
    {
      "cell_type": "code",
      "source": [
        "!cat mi_módulo.py"
      ],
      "metadata": {
        "id": "xOIcKTXDPNWY"
      },
      "execution_count": null,
      "outputs": []
    },
    {
      "cell_type": "code",
      "source": [
        "import mi_módulo\n",
        "\n",
        "res = mi_módulo.sumar(7,5)\n",
        "print(res)\n",
        "\n",
        "mi_módulo.mi_print(\"Enrique\",\"\\n\")"
      ],
      "metadata": {
        "id": "yDWJcwaPQt1a"
      },
      "execution_count": null,
      "outputs": []
    },
    {
      "cell_type": "code",
      "source": [
        "from mi_módulo import sumar, mi_print\n",
        "res = sumar(5,3)\n",
        "print(res)\n",
        "mi_print(\"Enrique\",\"\\n\")"
      ],
      "metadata": {
        "id": "XJ8EfqEvSERN"
      },
      "execution_count": null,
      "outputs": []
    },
    {
      "cell_type": "markdown",
      "source": [
        "# Manejo de archivos con Python3\n",
        "- Leer archivos.\n",
        "- Escribir en archivos.\n",
        "- Manipular información leída desde un archivo.\n",
        "- Formatos de archivo."
      ],
      "metadata": {
        "id": "7sVuiXUxSs1x"
      }
    },
    {
      "cell_type": "code",
      "source": [
        "archivo = open(\"salida.txt\",\"wt\")\n",
        "archivo.write(\"Hola mundo\")\n",
        "archivo.close"
      ],
      "metadata": {
        "id": "e1HRDKsKS5df"
      },
      "execution_count": null,
      "outputs": []
    },
    {
      "cell_type": "code",
      "source": [
        "!cat salida.txt"
      ],
      "metadata": {
        "id": "TTY51Pz2TOIR"
      },
      "execution_count": 21,
      "outputs": []
    },
    {
      "cell_type": "markdown",
      "source": [
        "Para abrir un archivo ya sea para lectura o escritura se usa la función open.\n",
        "```\n",
        "open (fileobj, \"XY\")\n",
        "```\n",
        "Donde File object es el nombre del archivo a abrir, y el segundo argumento de la función está formado por un par de letras. La primer letra establece el tipo de apertura del archivo:\n",
        "1. **r** Lectura.\n",
        "2. **w** Escritura.\n",
        "3. **x** Escritura exclusiva, es decir, sólo en caso de que el archivo no exista.\n",
        "4. **a** Append.\n",
        "\n",
        "El segundo carácter indica el formato del archivo:\n",
        "\n",
        "1. **t** Formato de texto.\n",
        "2. **b** Formato binario."
      ],
      "metadata": {
        "id": "Ohlx9JFHQDZo"
      }
    },
    {
      "cell_type": "code",
      "source": [
        "archivo = open(\"Ejemplo1.txt\",\"wt\")\n",
        "\n",
        "for x in range (10):\n",
        "    archivo.write(\"Hola mundo \" + str(x) + \"\\n\")\n",
        "cont = archivo.write(\"Otra cosa\")\n",
        "archivo.close()\n",
        "\n",
        "print(\"escritos:\", cont)"
      ],
      "metadata": {
        "colab": {
          "base_uri": "https://localhost:8080/"
        },
        "id": "0xwL0yVLRBJK",
        "outputId": "25330921-eb00-46c5-ec7a-88b0030a953c"
      },
      "execution_count": 6,
      "outputs": [
        {
          "output_type": "stream",
          "name": "stdout",
          "text": [
            "escritos: 9\n"
          ]
        }
      ]
    },
    {
      "cell_type": "markdown",
      "source": [
        "# La función write\n",
        "La función write escribe datos en un archivo abierto para escritura, para ello utiliza un cursor (apuntador) al siguiente byte dentro del archivo.\n",
        "Cuando el archivo se abre, se crea este apuntador y se posiciona para moverse de forma automática cada vez que escribimos.\n",
        "\n",
        "La función write regresa un valor entero que indica el número de carácter del archivo.\n"
      ],
      "metadata": {
        "id": "Z_HIQ8dgR6gK"
      }
    },
    {
      "cell_type": "markdown",
      "source": [
        "# Lectura de un archivo. \n",
        "Para leer un archivo con programación se puede emplear una de tres opciones (funciones):\n",
        "1. read() lee todo el archivo y lo regresa como texto.\n",
        "2. readline() lee una sola línea (hasta encontrar el siguiente \\n) y la regresa como String.\n",
        "3. readlines() lee todo el archivo y lo regresa como una lista de texto separada por saltos de línea."
      ],
      "metadata": {
        "id": "mQZANmK8TQhG"
      }
    },
    {
      "cell_type": "code",
      "source": [
        "!cat Ejemplo1.txt"
      ],
      "metadata": {
        "colab": {
          "base_uri": "https://localhost:8080/"
        },
        "id": "uKJzMHXUUS8r",
        "outputId": "3d07bc21-45b2-4bb1-f2ab-e9f803be777f"
      },
      "execution_count": 7,
      "outputs": [
        {
          "output_type": "stream",
          "name": "stdout",
          "text": [
            "Hola mundo 0\n",
            "Hola mundo 1\n",
            "Hola mundo 2\n",
            "Hola mundo 3\n",
            "Hola mundo 4\n",
            "Hola mundo 5\n",
            "Hola mundo 6\n",
            "Hola mundo 7\n",
            "Hola mundo 8\n",
            "Hola mundo 9\n",
            "Otra cosa"
          ]
        }
      ]
    },
    {
      "cell_type": "code",
      "source": [
        "archivo1 = open(\"Ejemplo1.txt\",\"rt\")\n",
        "datos = archivo1.read()\n",
        "separados = datos.split(\"\\n\")\n",
        "print(separados)\n",
        "for index in range(len(separados)):\n",
        "    if index % 2 == 0:\n",
        "        print(separados[index].upper())\n",
        "    else:\n",
        "        print(separados[index].lower())\n",
        "print(\"-->\", datos,\"<--\" )"
      ],
      "metadata": {
        "colab": {
          "base_uri": "https://localhost:8080/"
        },
        "id": "1EAeZL2MUWY1",
        "outputId": "32efbba1-4f42-4602-ccb9-c57e456f13cf"
      },
      "execution_count": 18,
      "outputs": [
        {
          "output_type": "stream",
          "name": "stdout",
          "text": [
            "['Hola mundo 0', 'Hola mundo 1', 'Hola mundo 2', 'Hola mundo 3', 'Hola mundo 4', 'Hola mundo 5', 'Hola mundo 6', 'Hola mundo 7', 'Hola mundo 8', 'Hola mundo 9', 'Otra cosa']\n",
            "HOLA MUNDO 0\n",
            "hola mundo 1\n",
            "HOLA MUNDO 2\n",
            "hola mundo 3\n",
            "HOLA MUNDO 4\n",
            "hola mundo 5\n",
            "HOLA MUNDO 6\n",
            "hola mundo 7\n",
            "HOLA MUNDO 8\n",
            "hola mundo 9\n",
            "OTRA COSA\n",
            "--> Hola mundo 0\n",
            "Hola mundo 1\n",
            "Hola mundo 2\n",
            "Hola mundo 3\n",
            "Hola mundo 4\n",
            "Hola mundo 5\n",
            "Hola mundo 6\n",
            "Hola mundo 7\n",
            "Hola mundo 8\n",
            "Hola mundo 9\n",
            "Otra cosa <--\n"
          ]
        }
      ]
    },
    {
      "cell_type": "code",
      "source": [
        "archivo2 = open(\"Ejemplo1.txt\",\"rt\")\n",
        "for x in range (11):\n",
        "    if x % 2 == 0:\n",
        "        print(archivo2.readline().upper(),end=\"\")\n",
        "    else:\n",
        "        print(archivo2.readline().lower(),end=\"\")"
      ],
      "metadata": {
        "colab": {
          "base_uri": "https://localhost:8080/"
        },
        "id": "pjHg2dioYl9Y",
        "outputId": "63bf2b5c-8a3e-44e5-db01-f13231bf9be6"
      },
      "execution_count": 27,
      "outputs": [
        {
          "output_type": "stream",
          "name": "stdout",
          "text": [
            "HOLA MUNDO 0\n",
            "hola mundo 1\n",
            "HOLA MUNDO 2\n",
            "hola mundo 3\n",
            "HOLA MUNDO 4\n",
            "hola mundo 5\n",
            "HOLA MUNDO 6\n",
            "hola mundo 7\n",
            "HOLA MUNDO 8\n",
            "hola mundo 9\n",
            "OTRA COSA"
          ]
        }
      ]
    },
    {
      "cell_type": "code",
      "source": [
        "archivo3 = open(\"Ejemplo1.txt\",\"rt\")\n",
        "lineas = archivo3.readlines()\n",
        "print(lineas)\n",
        "# For-each\n",
        "for texto in lineas:\n",
        "    print(texto.rstrip())\n"
      ],
      "metadata": {
        "colab": {
          "base_uri": "https://localhost:8080/"
        },
        "id": "hbULibVhcPu6",
        "outputId": "b3e07654-8ec7-4912-da95-ca870d16a135"
      },
      "execution_count": 30,
      "outputs": [
        {
          "output_type": "stream",
          "name": "stdout",
          "text": [
            "['Hola mundo 0\\n', 'Hola mundo 1\\n', 'Hola mundo 2\\n', 'Hola mundo 3\\n', 'Hola mundo 4\\n', 'Hola mundo 5\\n', 'Hola mundo 6\\n', 'Hola mundo 7\\n', 'Hola mundo 8\\n', 'Hola mundo 9\\n', 'Otra cosa']\n",
            "Hola mundo 0\n",
            "Hola mundo 1\n",
            "Hola mundo 2\n",
            "Hola mundo 3\n",
            "Hola mundo 4\n",
            "Hola mundo 5\n",
            "Hola mundo 6\n",
            "Hola mundo 7\n",
            "Hola mundo 8\n",
            "Hola mundo 9\n",
            "Otra cosa\n"
          ]
        }
      ]
    },
    {
      "cell_type": "code",
      "source": [
        "archivo4 = open(\"ejemplo2.txt\",\"rt\")\n",
        "lineas = archivo4.readlines()\n",
        "print(lineas)\n",
        "suma = 0\n",
        "for lineas in lineas[:len(lineas)-1:]:\n",
        "    for numero in lineas.strip().split(\",\"):\n",
        "        suma += int(numero.strip())\n",
        "print(suma)"
      ],
      "metadata": {
        "colab": {
          "base_uri": "https://localhost:8080/"
        },
        "id": "UttaqWoEdvYT",
        "outputId": "a5fba9b2-c74b-490f-d129-063f33768f95"
      },
      "execution_count": 60,
      "outputs": [
        {
          "output_type": "stream",
          "name": "stdout",
          "text": [
            "['   1   , 2,   3, 4 ,  5 \\n', '      10  , 20 , 30      ,  40\\n', '     100   , 200    , 300\\n', '       ']\n",
            "715\n"
          ]
        }
      ]
    }
  ]
}