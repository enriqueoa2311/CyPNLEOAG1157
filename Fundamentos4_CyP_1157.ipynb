{
  "nbformat": 4,
  "nbformat_minor": 0,
  "metadata": {
    "colab": {
      "name": "Fundamentos4_CyP_1157.ipynb",
      "provenance": []
    },
    "kernelspec": {
      "name": "python3",
      "display_name": "Python 3"
    },
    "language_info": {
      "name": "python"
    }
  },
  "cells": [
    {
      "cell_type": "markdown",
      "metadata": {
        "id": "1-N4CMJ9VJ6V"
      },
      "source": [
        "Una función es una unidad de código reutilizable, además de ser un mecanismo para organizar código.\n",
        "La gran ventaja de emplear funciones es simplificar la programación.\n",
        "\n",
        "### Estructura\n",
        "Una función puede tomar cualquier cantidad de parámetros de entrada (de cualquier tipo) y retornar únicamente un solo valor.\n",
        "Un parámetro de entrada es un valor que recibe la función para realizar sus operaciones.\n",
        "\n",
        "Con una función se pueden hacer 2 cosas:\n",
        "1. Definirla.\n",
        "2. Invocarla (ejecutarla).\n",
        "\n",
        "La gran ventaja es que se puede utilzar cuando se desee.\n"
      ]
    },
    {
      "cell_type": "markdown",
      "metadata": {
        "id": "aatv7j0YUHZ0"
      },
      "source": [
        "# Modularidad (Funciones).\n",
        "\n"
      ]
    },
    {
      "cell_type": "code",
      "metadata": {
        "id": "Lp0T_2OkUD51"
      },
      "source": [
        "def sumar(op1, op2):\n",
        "    res = op1 + op2\n",
        "    return res"
      ],
      "execution_count": 6,
      "outputs": []
    },
    {
      "cell_type": "code",
      "metadata": {
        "colab": {
          "base_uri": "https://localhost:8080/"
        },
        "id": "uNPdTvJkYCC7",
        "outputId": "df9e7f9a-0867-484f-d045-ca3233f2af1b"
      },
      "source": [
        "res = sumar(2,5)\n",
        "print(res)\n",
        "res = sumar(33,22)\n",
        "print(res)"
      ],
      "execution_count": 9,
      "outputs": [
        {
          "output_type": "stream",
          "name": "stdout",
          "text": [
            "7\n",
            "55\n"
          ]
        }
      ]
    },
    {
      "cell_type": "code",
      "metadata": {
        "colab": {
          "base_uri": "https://localhost:8080/"
        },
        "id": "3yCMaX3bZO8d",
        "outputId": "b1f4b688-8a69-49e9-f96c-82d265d52bdd"
      },
      "source": [
        "print(\"Hola\", \"Jesús\",sep=\"-\")"
      ],
      "execution_count": 12,
      "outputs": [
        {
          "output_type": "stream",
          "name": "stdout",
          "text": [
            "Hola-Jesús\n"
          ]
        }
      ]
    },
    {
      "cell_type": "code",
      "metadata": {
        "colab": {
          "base_uri": "https://localhost:8080/"
        },
        "id": "fwU6qbjkaW2c",
        "outputId": "40c80e68-4f1c-406d-fb69-5b9488310fae"
      },
      "source": [
        "def imprime_cuadro():\n",
        "    print(\"****\")\n",
        "    print(\"****\")\n",
        "    print(\"****\")\n",
        "    print(\"****\")\n",
        "    #return None\n",
        "imprime_cuadro()"
      ],
      "execution_count": 15,
      "outputs": [
        {
          "output_type": "stream",
          "name": "stdout",
          "text": [
            "****\n",
            "****\n",
            "****\n",
            "****\n"
          ]
        }
      ]
    },
    {
      "cell_type": "code",
      "metadata": {
        "id": "Il-bcC-Xak0q"
      },
      "source": [
        ""
      ],
      "execution_count": null,
      "outputs": []
    },
    {
      "cell_type": "markdown",
      "metadata": {
        "id": "IAdlcK9Aa7t8"
      },
      "source": [
        "# Valor de retorno de una función\n",
        "\n",
        "Regla de oro.- Una función siempre retorna en un solo valor. Inclusive si ese valor es el vacío."
      ]
    },
    {
      "cell_type": "code",
      "metadata": {
        "colab": {
          "base_uri": "https://localhost:8080/"
        },
        "id": "xE6dPw4jbLTD",
        "outputId": "9a3ec333-cd07-4676-b083-eda38f2f7d19"
      },
      "source": [
        "# Invocar sumar\n",
        "res = sumar(7,8)\n",
        "print(res)\n",
        "# Invocar la función pintar cuadro\n",
        "res = imprime_cuadro()\n",
        "print(res)"
      ],
      "execution_count": 18,
      "outputs": [
        {
          "output_type": "stream",
          "name": "stdout",
          "text": [
            "15\n",
            "****\n",
            "****\n",
            "****\n",
            "****\n",
            "None\n"
          ]
        }
      ]
    },
    {
      "cell_type": "markdown",
      "metadata": {
        "id": "PIYnnR8vdGBT"
      },
      "source": [
        "# La palabra reservada None de Python\n",
        "Esta palabra reservada significa vacío, equivalente a la palabra reservada Void del lenguaje C, C++ y Java.\n",
        "\n",
        "Se usa para indicar ya sea un return vacío o que se recibe como parámetro un vacío."
      ]
    },
    {
      "cell_type": "code",
      "metadata": {
        "id": "sgY3oghvdse7"
      },
      "source": [
        "def multiplicar(valor,veces):\n",
        "    c = valor * veces\n",
        "    return c"
      ],
      "execution_count": 19,
      "outputs": []
    },
    {
      "cell_type": "code",
      "metadata": {
        "id": "94bylobdeIU7"
      },
      "source": [
        "res = multiplicar(None,5)\n",
        "print(res)"
      ],
      "execution_count": null,
      "outputs": []
    },
    {
      "cell_type": "code",
      "metadata": {
        "id": "iaMNEPWMewsF"
      },
      "source": [
        "def multiplicar(valor,veces):\n",
        "    if valor == None:\n",
        "        c=-1\n",
        "    else:\n",
        "        c = valor * veces\n",
        "    return c"
      ],
      "execution_count": 24,
      "outputs": []
    },
    {
      "cell_type": "code",
      "metadata": {
        "colab": {
          "base_uri": "https://localhost:8080/"
        },
        "id": "mjD1hgqqe9-I",
        "outputId": "c63b1169-8efc-4497-88ea-f7d89ba4d9f2"
      },
      "source": [
        "res = multiplicar(None,5)\n",
        "print(res)"
      ],
      "execution_count": 25,
      "outputs": [
        {
          "output_type": "stream",
          "name": "stdout",
          "text": [
            "-1\n"
          ]
        }
      ]
    },
    {
      "cell_type": "markdown",
      "metadata": {
        "id": "0xvXE8Vwfge0"
      },
      "source": [
        "# Parámetros y argumentos\n",
        "Son conceptos relacionados y su diferencia está centrada en el momento en que se emplea en una función.\n",
        "Es decir, en la función sumar de arriba, cuando se declara se le llama parámetro y cuando se invoca se le llama argumento."
      ]
    },
    {
      "cell_type": "markdown",
      "metadata": {
        "id": "Oyl_VxhBfd6A"
      },
      "source": [
        "# Argumentos posicionales\n",
        "En Python es posible determinar a qué parámetros están dirigidos los argumentos, según su posición.\n"
      ]
    },
    {
      "cell_type": "code",
      "metadata": {
        "id": "K9_55RK6gsKA"
      },
      "source": [
        "def dividir(op1, op2):\n",
        "    c = op1/op2\n",
        "    return c"
      ],
      "execution_count": 29,
      "outputs": []
    },
    {
      "cell_type": "code",
      "metadata": {
        "colab": {
          "base_uri": "https://localhost:8080/"
        },
        "id": "VZTssw0Mg1Oc",
        "outputId": "4f7ae2d9-13bc-4b4a-ebc5-40c6143e4480"
      },
      "source": [
        "num1 = 25\n",
        "num2 = 5\n",
        "res = dividir(num1,num2)\n",
        "print(res)\n",
        "res = dividir(num2,num1)\n",
        "print(res)"
      ],
      "execution_count": 33,
      "outputs": [
        {
          "output_type": "stream",
          "name": "stdout",
          "text": [
            "5.0\n",
            "0.2\n"
          ]
        }
      ]
    },
    {
      "cell_type": "markdown",
      "metadata": {
        "id": "25xUEgR0hRmy"
      },
      "source": [
        "# Argumentos con palabras clave (keywords)\n",
        "Es la posibilidad de indicarle a la función en tiempo de ejecución a qué parámetro va dirigido un argumento de entrada.\n",
        "Sólo disponible en Python."
      ]
    },
    {
      "cell_type": "code",
      "metadata": {
        "colab": {
          "base_uri": "https://localhost:8080/"
        },
        "id": "bd5zTv0Fh9gQ",
        "outputId": "07c70c13-e41f-4e11-8397-86737e762492"
      },
      "source": [
        "res = dividir(op2=num2,op1=num1)\n",
        "print(res)"
      ],
      "execution_count": 34,
      "outputs": [
        {
          "output_type": "stream",
          "name": "stdout",
          "text": [
            "5.0\n"
          ]
        }
      ]
    },
    {
      "cell_type": "code",
      "metadata": {
        "id": "F_vqzG5XifN_"
      },
      "source": [
        "def letra_J(caracter):\n",
        "    print(f\"      {caracter}\")\n",
        "    print(f\"      {caracter}\")\n",
        "    print(f\"      {caracter}\")\n",
        "    print(f\"      {caracter}\")\n",
        "    print(f\"      {caracter}\")\n",
        "    print(f\"{caracter} {caracter} {caracter} {caracter}\")"
      ],
      "execution_count": 40,
      "outputs": []
    },
    {
      "cell_type": "code",
      "metadata": {
        "colab": {
          "base_uri": "https://localhost:8080/"
        },
        "id": "0Tfenhrliu4r",
        "outputId": "c7c0115c-e883-462d-c327-4252564c3135"
      },
      "source": [
        "letra_J(\"+\")"
      ],
      "execution_count": 41,
      "outputs": [
        {
          "output_type": "stream",
          "name": "stdout",
          "text": [
            "      +\n",
            "      +\n",
            "      +\n",
            "      +\n",
            "      +\n",
            "+ + + +\n"
          ]
        }
      ]
    }
  ]
}