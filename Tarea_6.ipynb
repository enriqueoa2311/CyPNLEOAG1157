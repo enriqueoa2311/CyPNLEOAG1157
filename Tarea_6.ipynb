{
  "nbformat": 4,
  "nbformat_minor": 0,
  "metadata": {
    "colab": {
      "name": "Tarea_6.ipynb",
      "provenance": []
    },
    "kernelspec": {
      "name": "python3",
      "display_name": "Python 3"
    },
    "language_info": {
      "name": "python"
    }
  },
  "cells": [
    {
      "cell_type": "code",
      "metadata": {
        "id": "qrFabJhaJiGV",
        "colab": {
          "base_uri": "https://localhost:8080/"
        },
        "outputId": "98423543-18fb-4d23-c30a-0bab21de33b6"
      },
      "source": [
        "# Problema 2.1\n",
        "N = int(input(\"Introduce el número de pitidos por minuto:\"))\n",
        "if N>0:\n",
        "    T = (N/4) + 40\n",
        "    print(f\"Temperatura: {T} F\")\n",
        "else:\n",
        "    print(\"Número inválido\")\n",
        "print(\"Fin del programa\")"
      ],
      "execution_count": 16,
      "outputs": [
        {
          "output_type": "stream",
          "name": "stdout",
          "text": [
            "Introduce el número de pitidos por minuto:15\n",
            "Temperatura: 43.75 F\n",
            "Fin del programa\n"
          ]
        }
      ]
    },
    {
      "cell_type": "code",
      "metadata": {
        "id": "G-o7mZmQOBOd",
        "colab": {
          "base_uri": "https://localhost:8080/"
        },
        "outputId": "a0775927-d420-4d7e-f34c-e9903fa0f579"
      },
      "source": [
        "# Problema 2.2\n",
        "P = int(input(\"Número entero:\"))\n",
        "Q = int(input(\"Número entero:\"))\n",
        "EXP = P**3 + Q**4 - 2*P**2\n",
        "if EXP<680:\n",
        "    print(f\"Datos ingresados: {P} y {Q}\")\n",
        "    print(f\"Operación realizada: {EXP}\")\n",
        "else:\n",
        "    print(\"Valores introducidos no admitidos\")\n",
        "print(\"Fin del programa\")"
      ],
      "execution_count": 17,
      "outputs": [
        {
          "output_type": "stream",
          "name": "stdout",
          "text": [
            "Número entero:2\n",
            "Número entero:4\n",
            "Datos ingresados: 2 y 4\n",
            "Operación realizada: 256\n",
            "Fin del programa\n"
          ]
        }
      ]
    },
    {
      "cell_type": "code",
      "metadata": {
        "id": "kY7V6EBqQnth",
        "colab": {
          "base_uri": "https://localhost:8080/"
        },
        "outputId": "4c04d888-df07-492c-8233-8c214f051caa"
      },
      "source": [
        "# Problema 2.3\n",
        "A = float(input(\"Introduce un número real:\"))\n",
        "B = float(input(\"Introduce un número real:\"))\n",
        "C = float(input(\"Introduce un número real:\"))\n",
        "DIS = B**2 - 4*A*C\n",
        "if A==0:\n",
        "    print(\"Error\")\n",
        "elif DIS>=0:\n",
        "    x1 = ((-B) + DIS**0.5) / (2*A)\n",
        "    x2 = ((-B) - DIS**0.5) / (2*A)\n",
        "    print(f\"Raíces reales: {x1} y {x2}\")\n",
        "else:\n",
        "    print(\"Valores introducidos no admitidos\")\n",
        "\n",
        "print(\"Fin del programa\")"
      ],
      "execution_count": 18,
      "outputs": [
        {
          "output_type": "stream",
          "name": "stdout",
          "text": [
            "Introduce un número real:2.5\n",
            "Introduce un número real:-6\n",
            "Introduce un número real:-4\n",
            "Raíces reales: 2.9435595774162695 y -0.5435595774162696\n",
            "Fin del programa\n"
          ]
        }
      ]
    },
    {
      "cell_type": "code",
      "metadata": {
        "id": "j9svnheef8H9",
        "colab": {
          "base_uri": "https://localhost:8080/"
        },
        "outputId": "d9eb0e99-ecd8-4d3e-f917-37a2287c8aae"
      },
      "source": [
        "# Problema 2.4\n",
        "MAT = int(input(\"Introduce tu número de matrícula:\"))\n",
        "CAL1 = float(input(\"Introduce tu primer calificación:\"))\n",
        "CAL2 = float(input(\"Introduce tu segunda calificación:\"))\n",
        "CAL3 = float(input(\"Introduce tu tercer calificación:\"))\n",
        "CAL4 = float(input(\"Introduce tu cuarta calificación:\"))\n",
        "CAL5 = float(input(\"Introduce tu quinta calificación:\"))\n",
        "PRO = (CAL1 + CAL2 + CAL3 + CAL4 + CAL5) / 5\n",
        "if CAL1>10 or CAL2>10 or CAL3>10 or CAL4>10 or CAL5>10:\n",
        "    print(\"Valores no admitidos.\")\n",
        "elif PRO>=6:\n",
        "    print(f\"{MAT}, {PRO}, APROBADO\")\n",
        "else:\n",
        "    print(f\"{MAT}, {PRO}, NO APROBADO\")\n",
        "\n",
        "print(\"Fin del programa.\")"
      ],
      "execution_count": 19,
      "outputs": [
        {
          "output_type": "stream",
          "name": "stdout",
          "text": [
            "Introduce tu número de matrícula:16650\n",
            "Introduce tu primer calificación:5\n",
            "Introduce tu segunda calificación:4.80\n",
            "Introduce tu tercer calificación:7\n",
            "Introduce tu cuarta calificación:6.30\n",
            "Introduce tu quinta calificación:5.90\n",
            "16650, 5.8, NO APROBADO\n",
            "Fin del programa.\n"
          ]
        }
      ]
    },
    {
      "cell_type": "code",
      "metadata": {
        "id": "OMUsq8gtnGle",
        "colab": {
          "base_uri": "https://localhost:8080/"
        },
        "outputId": "7627232e-1564-4d1b-c462-fdb81fd2a865"
      },
      "source": [
        "# Problema 2.5\n",
        "NUM = int(input(\"Introduce un número entero:\"))\n",
        "if NUM > 0:\n",
        "    print(\"POSITIVO\")\n",
        "elif NUM == 0:\n",
        "    print(\"NULO\")\n",
        "else:\n",
        "    print(\"NEGATIVO\")\n",
        "\n",
        "print(\"Fin del programa\")"
      ],
      "execution_count": 20,
      "outputs": [
        {
          "output_type": "stream",
          "name": "stdout",
          "text": [
            "Introduce un número entero:-7\n",
            "NEGATIVO\n",
            "Fin del programa\n"
          ]
        }
      ]
    },
    {
      "cell_type": "code",
      "metadata": {
        "id": "GsPkaUUan0wO",
        "colab": {
          "base_uri": "https://localhost:8080/"
        },
        "outputId": "31cd4d5d-0d1e-41a0-f06a-ccd53ff530e7"
      },
      "source": [
        "# Problema 2.6\n",
        "A = int(input(\"Introduce un número entero:\"))\n",
        "if A==0:\n",
        "    print(\"NULO\")\n",
        "elif (-1)**A > 0:\n",
        "    print(\"PAR\")\n",
        "else:\n",
        "    print(\"IMPAR\")\n",
        "\n",
        "print(\"Fin del programa\")"
      ],
      "execution_count": 22,
      "outputs": [
        {
          "output_type": "stream",
          "name": "stdout",
          "text": [
            "Introduce un número entero:3\n",
            "IMPAR\n",
            "Fin del programa\n"
          ]
        }
      ]
    },
    {
      "cell_type": "code",
      "metadata": {
        "id": "2ES3-dtrtQp_",
        "colab": {
          "base_uri": "https://localhost:8080/"
        },
        "outputId": "3b198ea2-aeea-4d37-c531-7247efc101b7"
      },
      "source": [
        "# Problema 2.7\n",
        "A = int(input(\"Introduce un número entero:\"))\n",
        "B = int(input(\"Introduce un número entero:\"))\n",
        "C = int(input(\"Introduce un número entero:\"))\n",
        "if A==B==C:\n",
        "    print(\"Los números deben ser diferentes entre sí\")\n",
        "elif A<B and B<C:\n",
        "    print(\"Los números están en orden creciente\")\n",
        "elif A<B and B>C:\n",
        "    print(\"Los números no están en orden creciente\")\n",
        "else:\n",
        "    print(\"Los números no están en orden creciente\")\n",
        "\n",
        "print(\"Fin del programa\")\n"
      ],
      "execution_count": 25,
      "outputs": [
        {
          "output_type": "stream",
          "name": "stdout",
          "text": [
            "Introduce un número entero:1\n",
            "Introduce un número entero:2\n",
            "Introduce un número entero:3\n",
            "Los números están en orden creciente\n",
            "Fin del programa\n"
          ]
        }
      ]
    },
    {
      "cell_type": "code",
      "metadata": {
        "id": "WGKH51ohuxmi",
        "colab": {
          "base_uri": "https://localhost:8080/"
        },
        "outputId": "ff73cc75-0adc-4271-9c96-900233802629"
      },
      "source": [
        "# Problema 2.8\n",
        "COMPRA = float(input(\"Introduce el valor de tu compra:\"))\n",
        "if COMPRA < 500:\n",
        "    PAGAR = COMPRA\n",
        "    print(PAGAR)\n",
        "elif COMPRA <= 1000:\n",
        "    PAGAR = COMPRA - (COMPRA * 0.05)\n",
        "    print(PAGAR)\n",
        "elif COMPRA <= 7000:\n",
        "    PAGAR = COMPRA - (COMPRA * 0.11)\n",
        "    print(PAGAR)\n",
        "elif COMPRA <= 15000:\n",
        "    PAGAR = COMPRA - (COMPRA * 0.18)\n",
        "    print(PAGAR)\n",
        "else:\n",
        "    PAGAR = COMPRA - (COMPRA * 0.25)\n",
        "    print(PAGAR)\n",
        "\n",
        "print(\"Fin del programa\")"
      ],
      "execution_count": 27,
      "outputs": [
        {
          "output_type": "stream",
          "name": "stdout",
          "text": [
            "Introduce el valor de tu compra:12350\n",
            "10127.0\n",
            "Fin del programa\n"
          ]
        }
      ]
    },
    {
      "cell_type": "code",
      "metadata": {
        "id": "XeNslXDjx8dL",
        "colab": {
          "base_uri": "https://localhost:8080/"
        },
        "outputId": "3f21efa9-eb9b-4e29-8210-9c91a16a4d38"
      },
      "source": [
        "# Problema 2.9\n",
        "PREBAS = float(input(\"Introduce un valor:\"))\n",
        "if PREBAS>500:\n",
        "    IMP = 20*0.30 + (PREBAS-40)*0.50\n",
        "    PRETOT = PREBAS + IMP\n",
        "    print(PREBAS, PRETOT)\n",
        "elif PREBAS>40:\n",
        "    IMP = 20*0.30 + (PREBAS-40)*0.40\n",
        "    PRETOT = PREBAS + IMP\n",
        "    print(PREBAS, PRETOT)\n",
        "elif PREBAS>20:\n",
        "    IMP = (PREBAS-20)*0.30\n",
        "    PRETOT = PREBAS + IMP\n",
        "    print(PREBAS, PRETOT)\n",
        "else:\n",
        "    IMP = 0\n",
        "    PRETOT = PREBAS + IMP\n",
        "    print(PREBAS, PRETOT)\n",
        "\n",
        "print(\"Fin del programa\")"
      ],
      "execution_count": 29,
      "outputs": [
        {
          "output_type": "stream",
          "name": "stdout",
          "text": [
            "Introduce un valor:128.40\n",
            "128.4 169.76000000000002\n",
            "Fin del programa\n"
          ]
        }
      ]
    },
    {
      "cell_type": "code",
      "metadata": {
        "id": "KAaR_v3_Dika",
        "colab": {
          "base_uri": "https://localhost:8080/"
        },
        "outputId": "344211cf-e069-4e47-8182-617c6a7c3923"
      },
      "source": [
        "# Problema 2.10\n",
        "A = int(input(\"Introduce un número:\"))\n",
        "B = int(input(\"Introduce un número:\"))\n",
        "C = int(input(\"Introduce un número:\"))\n",
        "if A > B and A > C:\n",
        "    print(\"A es el mayor\")\n",
        "elif A > B and A == C:\n",
        "    print(\"A y C son los mayores\")\n",
        "elif A > B and A < C and A != C:\n",
        "    print(\"C es el mayor\")\n",
        "elif A == B and A > C:\n",
        "    print(\"A y B son los mayores\")\n",
        "elif A == B and A == C:\n",
        "    print(\"A, B y C son iguales\")\n",
        "elif A == B and A != C:\n",
        "    print(\"C es el mayor\")\n",
        "elif A != B and B > C:\n",
        "    print(\"B es el mayor\")\n",
        "elif B == C:\n",
        "    print(\"B y C son los mayores\")\n",
        "else:\n",
        "    print(\"C es el mayor\")\n",
        "\n",
        "print(\"Fin del programa\")"
      ],
      "execution_count": 31,
      "outputs": [
        {
          "output_type": "stream",
          "name": "stdout",
          "text": [
            "Introduce un número:6\n",
            "Introduce un número:8\n",
            "Introduce un número:9\n",
            "C es el mayor\n",
            "Fin del programa\n"
          ]
        }
      ]
    },
    {
      "cell_type": "code",
      "metadata": {
        "id": "TaFNa3A_IhV-",
        "colab": {
          "base_uri": "https://localhost:8080/"
        },
        "outputId": "ed2d8c13-855e-42cb-9779-fa8be6c9975d"
      },
      "source": [
        "# Problema 2.11\n",
        "CLAVE = int(input(\"Ingresa el valor de la clave:\"))\n",
        "NUMIN = int(input(\"Ingresa el valor del tiempo en minutos:\"))\n",
        "if CLAVE == 12:\n",
        "    COST = NUMIN * 2\n",
        "    print(f\"Costo total de la llamada: {COST}\")\n",
        "elif CLAVE == 15:\n",
        "    COST = NUMIN * 2.2\n",
        "    print(f\"Costo total de la llamada: {COST}\")\n",
        "elif CLAVE == 18:\n",
        "    COST = NUMIN * 4.5\n",
        "    print(f\"Costo total de la llamada: {COST}\")\n",
        "elif CLAVE == 19:\n",
        "    COST = NUMIN * 3.5\n",
        "    print(f\"Costo total de la llamada: {COST}\")\n",
        "elif CLAVE == 23 or CLAVE == 25:\n",
        "    COST = NUMIN * 6\n",
        "    print(f\"Costo total de la llamada: {COST}\")\n",
        "elif CLAVE == 29:\n",
        "    COST = NUMIN * 5\n",
        "    print(f\"Costo total de la llamada: {COST}\")\n",
        "else:\n",
        "    print(\"No disponible\")\n",
        "\n",
        "print(\"Fin del programa\")"
      ],
      "execution_count": 34,
      "outputs": [
        {
          "output_type": "stream",
          "name": "stdout",
          "text": [
            "Ingresa el valor de la clave:29\n",
            "Ingresa el valor del tiempo en minutos:8\n",
            "Costo total de la llamada: 40\n",
            "Fin del programa\n"
          ]
        }
      ]
    },
    {
      "cell_type": "code",
      "metadata": {
        "colab": {
          "base_uri": "https://localhost:8080/"
        },
        "id": "MXs6o8bFMGDy",
        "outputId": "f112f672-34ea-40a6-9d4f-127c5e56f5b7"
      },
      "source": [
        "# Problema 2.12\n",
        "SUE = float(input(\"Ingrese el sueldo del trabajador:\"))\n",
        "CATE = int(input(\"Ingrese la categoría del trabajador:\"))\n",
        "HE = int(input(\"Ingrese las horas extras trabajadas:\"))\n",
        "if CATE == 1:\n",
        "    PHE = 30\n",
        "elif CATE == 2:\n",
        "    PHE = 38\n",
        "elif CATE == 3:\n",
        "    PHE = 50\n",
        "elif CATE == 4:\n",
        "    PHE = 70\n",
        "else:\n",
        "    PHE = 0\n",
        "\n",
        "if HE > 30:\n",
        "    NSUE = SUE + 30 * PHE\n",
        "    print(NSUE)\n",
        "else:\n",
        "    NSUE = SUE + HE * PHE\n",
        "    print(NSUE)\n",
        "\n",
        "print(\"Fin del programa\")"
      ],
      "execution_count": 35,
      "outputs": [
        {
          "output_type": "stream",
          "name": "stdout",
          "text": [
            "Ingrese el sueldo del trabajador:5125\n",
            "Ingrese la categoría del trabajador:4\n",
            "Ingrese las horas extras trabajadas:3\n",
            "5335.0\n",
            "Fin del programa\n"
          ]
        }
      ]
    },
    {
      "cell_type": "code",
      "metadata": {
        "colab": {
          "base_uri": "https://localhost:8080/"
        },
        "id": "-R2A8h65O7uH",
        "outputId": "ce984424-ba46-4772-f45a-6d68c422b4e7"
      },
      "source": [
        "# Problema 2.13\n",
        "MAT = int(input(\"Ingrese la matrícula del alumno:\"))\n",
        "CARR = str(input(\"Ingrese la carrera del alumno:\"))\n",
        "SEM = int(input(\"Ingrese el semestre al cual pertenece el alumno:\"))\n",
        "PROM = float(input(\"Ingrese el promedio del alumno:\"))\n",
        "if CARR == \"Economía\":\n",
        "    if SEM >= 6 and PROM >= 8.8:\n",
        "        print(f\"{MAT}, {CARR}, Aceptado\")\n",
        "\n",
        "if CARR == \"Computación\":\n",
        "    if SEM > 6 and PROM > 8.5:\n",
        "        print(f\"{MAT}, {CARR}, Aceptado\")\n",
        "\n",
        "if CARR == \"Contabilidad\" or CARR == \"Administración\":\n",
        "    if SEM > 5 and PROM > 8.5:\n",
        "        print(f\"{MAT}, {CARR}, Aceptado\")\n",
        "\n",
        "print(\"Fin del programa\")"
      ],
      "execution_count": 36,
      "outputs": [
        {
          "output_type": "stream",
          "name": "stdout",
          "text": [
            "Ingrese la matrícula del alumno:25224\n",
            "Ingrese la carrera del alumno:Computación\n",
            "Ingrese el semestre al cual pertenece el alumno:8\n",
            "Ingrese el promedio del alumno:8.7\n",
            "25224, Computación, Aceptado\n",
            "Fin del programa\n"
          ]
        }
      ]
    }
  ]
}